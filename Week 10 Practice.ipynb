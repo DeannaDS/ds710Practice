{
 "cells": [
  {
   "cell_type": "code",
   "execution_count": 1,
   "metadata": {},
   "outputs": [
    {
     "name": "stdout",
     "output_type": "stream",
     "text": [
      "Wall time: 129 ms\n"
     ]
    }
   ],
   "source": [
    "# a very large list of strings\n",
    "strings = ['foo', 'foobar', 'baz', 'qux',\n",
    "           'python', 'Guido Van Rossum'] * 100000\n",
    "\n",
    "method1 = [x for x in strings if x.startswith('foo')]\n",
    "\n",
    "method2 = [x for x in strings if x[:3] == 'foo']\n",
    "\n",
    "%time method1 = [x for x in strings if x.startswith('foo')]"
   ]
  },
  {
   "cell_type": "code",
   "execution_count": 2,
   "metadata": {},
   "outputs": [
    {
     "name": "stdout",
     "output_type": "stream",
     "text": [
      "Wall time: 103 ms\n"
     ]
    }
   ],
   "source": [
    "%time method2 = [x for x in strings if x[:3] == 'foo']"
   ]
  },
  {
   "cell_type": "code",
   "execution_count": 3,
   "metadata": {},
   "outputs": [
    {
     "name": "stdout",
     "output_type": "stream",
     "text": [
      "10 loops, best of 3: 131 ms per loop\n"
     ]
    }
   ],
   "source": [
    "#timeit runs it a number of times\n",
    "%timeit [x for x in strings if x.startswith('foo')]"
   ]
  },
  {
   "cell_type": "code",
   "execution_count": 4,
   "metadata": {},
   "outputs": [
    {
     "name": "stdout",
     "output_type": "stream",
     "text": [
      "10 loops, best of 3: 95.3 ms per loop\n"
     ]
    }
   ],
   "source": [
    " %timeit [x for x in strings if x[:3] == 'foo']"
   ]
  },
  {
   "cell_type": "code",
   "execution_count": 5,
   "metadata": {},
   "outputs": [
    {
     "name": "stdout",
     "output_type": "stream",
     "text": [
      "The slowest run took 9.47 times longer than the fastest. This could mean that an intermediate result is being cached.\n",
      "1000000 loops, best of 3: 234 ns per loop\n"
     ]
    }
   ],
   "source": [
    "x = 'foobar'\n",
    "y = 'foo'\n",
    "\n",
    "%timeit x.startswith(y)"
   ]
  },
  {
   "cell_type": "code",
   "execution_count": 7,
   "metadata": {},
   "outputs": [
    {
     "name": "stdout",
     "output_type": "stream",
     "text": [
      "1000000 loops, best of 3: 206 ns per loop\n"
     ]
    }
   ],
   "source": [
    "%timeit x[:3] == y"
   ]
  },
  {
   "cell_type": "code",
   "execution_count": 11,
   "metadata": {},
   "outputs": [
    {
     "name": "stdout",
     "output_type": "stream",
     "text": [
      "Largest one we saw: 11.4572780139\n"
     ]
    }
   ],
   "source": [
    "#set up for profiling\n",
    "import numpy as np\n",
    "from numpy.linalg import eigvals\n",
    "\n",
    "def run_experiment(niter=100):\n",
    "    K = 100\n",
    "    results = []\n",
    "    for _ in range(niter):\n",
    "        mat = np.random.randn(K, K)\n",
    "        max_eigenvalue = np.abs(eigvals(mat)).max()\n",
    "        results.append(max_eigenvalue)\n",
    "    return results\n",
    "some_results = run_experiment()\n",
    "print ('Largest one we saw:', np.max(some_results)) "
   ]
  },
  {
   "cell_type": "code",
   "execution_count": 12,
   "metadata": {},
   "outputs": [
    {
     "name": "stdout",
     "output_type": "stream",
     "text": [
      " "
     ]
    }
   ],
   "source": [
    "#use the prun command to run profiling\n",
    "%prun -l 7 -s cumulative run_experiment()"
   ]
  },
  {
   "cell_type": "code",
   "execution_count": 1,
   "metadata": {},
   "outputs": [
    {
     "name": "stdout",
     "output_type": "stream",
     "text": [
      " "
     ]
    }
   ],
   "source": [
    "#example of line profiling (be sure to install line_profile package in anaconda first)\n",
    "from numpy.random import randn\n",
    "\n",
    "def add_and_sum(x, y):\n",
    "    added = x + y\n",
    "    summed = added.sum(axis=1)\n",
    "    return summed\n",
    "\n",
    "def call_function():\n",
    "    x = randn(1000, 1000)\n",
    "    y = randn(1000, 1000)\n",
    "    return add_and_sum(x, y)\n",
    "\n",
    "#built-in profiling\n",
    "\n",
    "x = randn(3000, 3000)\n",
    "y = randn(3000, 3000)\n",
    "%prun add_and_sum(x, y)    "
   ]
  },
  {
   "cell_type": "code",
   "execution_count": 3,
   "metadata": {},
   "outputs": [],
   "source": [
    "#profile the above with line profiler\n",
    "%load_ext line_profiler\n",
    "%lprun -f add_and_sum add_and_sum(x, y)"
   ]
  },
  {
   "cell_type": "code",
   "execution_count": 4,
   "metadata": {
    "collapsed": true
   },
   "outputs": [],
   "source": [
    "%lprun -f add_and_sum -f call_function call_function()"
   ]
  },
  {
   "cell_type": "code",
   "execution_count": 5,
   "metadata": {},
   "outputs": [
    {
     "data": {
      "image/png": "[encoded data removed]",
      "text/plain": [
       "<matplotlib.figure.Figure at 0x1928b4e9080>"
      ]
     },
     "metadata": {},
     "output_type": "display_data"
    },
    {
     "name": "stderr",
     "output_type": "stream",
     "text": [
      "C:\\Users\\Deanna\\Anaconda3\\lib\\site-packages\\ipykernel_launcher.py:67: DeprecationWarning: \n",
      ".ix is deprecated. Please use\n",
      ".loc for label based indexing or\n",
      ".iloc for positional indexing\n",
      "\n",
      "See the documentation here:\n",
      "http://pandas.pydata.org/pandas-docs/stable/indexing.html#deprecate_ix\n"
     ]
    },
    {
     "data": {
      "image/png": "[encoded data removed]",
      "text/plain": [
       "<matplotlib.figure.Figure at 0x1928c395668>"
      ]
     },
     "metadata": {},
     "output_type": "display_data"
    }
   ],
   "source": [
    "#pandas examples of group by\n",
    "import numpy as np\n",
    "import pandas as pd\n",
    "import pylab as pl\n",
    "\n",
    "baseball = pd.read_csv(\"http://bit.ly/144sh7t\")\n",
    "\n",
    "# group by year and get a summary of each numeric column\n",
    "baseball.groupby([\"year\"]).describe()\n",
    "# for each year, get the mean of each column\n",
    "baseball.groupby([\"year\"]).aggregate(np.mean)\n",
    "# you can create group objects\n",
    "baseball_grouped = baseball.groupby([\"year\"])\n",
    "# getting the count of rows for each league\n",
    "baseball.groupby(\"lg\").size()\n",
    "# lg\n",
    "# AA      171\n",
    "# AL    10007\n",
    "# FL       37\n",
    "# NL    11378\n",
    "# PL       32\n",
    "# UA        9\n",
    "\n",
    "# records per year\n",
    "baseball.groupby([\"year\"]).size()\n",
    "# year\n",
    "# 1871     7\n",
    "# 1872    13\n",
    "# 1873    13\n",
    "# 1874    15\n",
    "# 1875    17\n",
    "# ...\n",
    "\n",
    "def analyze(df):\n",
    "    return pd.Series({\"nrow\": len(df), \"ncol\": len(df.columns)})\n",
    "# rows and columns per league\n",
    "baseball.groupby(\"lg\").apply(analyze)\n",
    "#     ncol   nrow\n",
    "# lg             \n",
    "# AA    22    171\n",
    "# AL    22  10007\n",
    "# FL    22     37\n",
    "# NL    22  11378\n",
    "# PL    22     32\n",
    "# UA    22      9\n",
    "\n",
    "# aggregate over year and get mean RBIs per year\n",
    "mean_rbis = baseball.groupby(\"year\")['rbi'].aggregate(np.mean)\n",
    "mean_rbis.head()\n",
    "# year\n",
    "# 1871    22.285714\n",
    "# 1872    20.538462\n",
    "# 1873    30.923077\n",
    "# 1874    29.000000\n",
    "# 1875    31.588235\n",
    "\n",
    "mean_rbis.plot()\n",
    "pl.show()\n",
    "\n",
    "def years_played_to_date(player):\n",
    "    years_to_date = player.year - np.min(player.year) + 1\n",
    "    player['years_to_date'] = years_to_date\n",
    "    return player\n",
    "\n",
    "# for each player, calculate the number of years played\n",
    "players = baseball.groupby(\"id\").apply(years_played_to_date)\n",
    "players.ix[players.id==\"ansonca01\"]\n",
    "#            id  year  stint team  ...  years_to_date\n",
    "# 0   ansonca01  1871      1  RC1  ...              1\n",
    "# 7   ansonca01  1872      1  PH1  ...              2\n",
    "# 20  ansonca01  1873      1  PH1  ...              3\n",
    "# 33  ansonca01  1874      1  PH1  ...              4\n",
    "# 48  ansonca01  1875      1  PH1  ...              5\n",
    "\n",
    "# get the mean and median years played and plot it\n",
    "players.groupby(\"year\").aggregate([np.mean, np.median]).years_to_date.plot()\n",
    "pl.show()"
   ]
  },
  {
   "cell_type": "code",
   "execution_count": 11,
   "metadata": {},
   "outputs": [
    {
     "ename": "SyntaxError",
     "evalue": "invalid syntax (<ipython-input-11-438de5a0009c>, line 15)",
     "output_type": "error",
     "traceback": [
      "\u001b[1;36m  File \u001b[1;32m\"<ipython-input-11-438de5a0009c>\"\u001b[1;36m, line \u001b[1;32m15\u001b[0m\n\u001b[1;33m    df[sepal length (cm)].apply(lambda x: x / 2).head()\u001b[0m\n\u001b[1;37m                  ^\u001b[0m\n\u001b[1;31mSyntaxError\u001b[0m\u001b[1;31m:\u001b[0m invalid syntax\n"
     ]
    }
   ],
   "source": [
    "#applying functions element-wise\n",
    "import pandas as pd\n",
    "from sklearn.datasets import load_iris\n",
    "\n",
    "iris = load_iris()\n",
    "\n",
    "\n",
    "df = pd.DataFrame(iris.data, columns=iris.feature_names)\n",
    "print(df.columns)\n",
    "# apply\n",
    "cols = df.columns[0:4]\n",
    "# divide each numeric column by 2\n",
    "df[cols].apply(lambda x: x / 2).head()\n",
    "# divide 1 column by 2\n",
    "df[sepal length (cm)].apply(lambda x: x / 2).head()"
   ]
  }
 ],
 "metadata": {
  "kernelspec": {
   "display_name": "Python 3",
   "language": "python",
   "name": "python3"
  },
  "language_info": {
   "codemirror_mode": {
    "name": "ipython",
    "version": 3
   },
   "file_extension": ".py",
   "mimetype": "text/x-python",
   "name": "python",
   "nbconvert_exporter": "python",
   "pygments_lexer": "ipython3",
   "version": "3.6.1"
  }
 },
 "nbformat": 4,
 "nbformat_minor": 2
}
