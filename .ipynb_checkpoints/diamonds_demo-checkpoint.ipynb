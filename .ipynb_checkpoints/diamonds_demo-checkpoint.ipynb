{
 "cells": [
  {
   "cell_type": "markdown",
   "metadata": {},
   "source": [
    "# A set of diamonds\n",
    "\n",
    "The data set ```diamonds.txt``` contains data on the characteristics of diamonds and their prices.  There are 5 levels of clarity in the data.  From clearest to least clear, they are IF, VVS1, VVS2, VS1, and VS2.\n",
    "\n",
    "* IF = Internally Flawless\n",
    "* VVS = Very, very slight inclusions\n",
    "* VS = Very slight inclusions\n",
    "\n",
    "We want to write a function to count the number of diamonds of each type.  Later in the course, we'll discuss how to use libraries for this type of analysis in Python.  For now, we'll ignore much of the structure of diamonds.txt , and just treat it as a text file without any other organization.\n",
    "\n",
    "Of course, you'll need to have ```diamonds.txt``` in the same directory as this notebook to run the demo."
   ]
  },
  {
   "cell_type": "code",
   "execution_count": 1,
   "metadata": {},
   "outputs": [],
   "source": [
    "# Read the data in diamonds.txt as a string\n",
    "\n",
    "with open(\"diamonds.txt\") as diamond_file:\n",
    "    diamond_string = diamond_file.read()"
   ]
  },
  {
   "cell_type": "markdown",
   "metadata": {},
   "source": [
    "We follow the [```numpy``` standard for documentation strings](https://github.com/numpy/numpy/blob/master/doc/HOWTO_DOCUMENT.rst.txt#docstring-standard)."
   ]
  },
  {
   "cell_type": "code",
   "execution_count": 2,
   "metadata": {},
   "outputs": [],
   "source": [
    "def clarity_count(s, clarity):\n",
    "    \n",
    "    \"\"\"\n",
    "    Return the number of instances of the indicated diamond clarity in the given string.\n",
    "    \n",
    "    Parameters\n",
    "    ----------\n",
    "    s: str\n",
    "    A string containing the description of some diamonds.\n",
    "    \n",
    "    clarity: int\n",
    "    An integer between 0 and 4 (inclusive)\n",
    "    0 indicates 'IF', 1 is 'VVS1', 2 is 'VVS2', 3 is 'VS1', and 4 is 'VS2'\n",
    "    \n",
    "    Returns\n",
    "    -------\n",
    "    clar_count: int\n",
    "    Number of instances of diamond clarity.\n",
    "    \"\"\"\n",
    "    \n",
    "    clar_string_list = ['IF', 'VVS1', 'VVS2', 'VS1', 'VS2']\n",
    "    clar_count = s.count(clar_string_list[clarity])\n",
    "    return clar_count"
   ]
  },
  {
   "cell_type": "code",
   "execution_count": 3,
   "metadata": {
    "collapsed": true
   },
   "outputs": [],
   "source": [
    "# We can use the ? to display the docstring for the function.\n",
    "\n",
    "clarity_count?"
   ]
  },
  {
   "cell_type": "code",
   "execution_count": 4,
   "metadata": {},
   "outputs": [
    {
     "data": {
      "text/plain": [
       "2"
      ]
     },
     "execution_count": 4,
     "metadata": {},
     "output_type": "execute_result"
    }
   ],
   "source": [
    "# We test our function on a short string\n",
    "\n",
    "clarity_count(\"IF VVS1 IF\", 0)"
   ]
  },
  {
   "cell_type": "code",
   "execution_count": 5,
   "metadata": {},
   "outputs": [
    {
     "data": {
      "text/plain": [
       "44"
      ]
     },
     "execution_count": 5,
     "metadata": {},
     "output_type": "execute_result"
    }
   ],
   "source": [
    "# How often does \"IF\" appear in diamonds.txt?\n",
    "\n",
    "clarity_count(diamond_string, 0)"
   ]
  },
  {
   "cell_type": "code",
   "execution_count": 6,
   "metadata": {},
   "outputs": [
    {
     "name": "stdout",
     "output_type": "stream",
     "text": [
      "44\n",
      "52\n",
      "78\n",
      "133\n",
      "131\n"
     ]
    }
   ],
   "source": [
    "# How often does each clarity level appear in diamonds.txt?\n",
    "\n",
    "for i in range(5):\n",
    "    print(clarity_count(diamond_string, i))"
   ]
  },
  {
   "cell_type": "markdown",
   "metadata": {},
   "source": [
    "Let's improve our ```clarity_count()``` function in two ways: we'll add a default clarity of 0, and we'll display an error message if the specified clarity number is not an integer between 0 and 4.\n",
    "\n",
    "Note that Python incorporates sophisticated error-checking functionality.  The method we use here is appropriate for informal data analysis, but not for production code."
   ]
  },
  {
   "cell_type": "code",
   "execution_count": 7,
   "metadata": {
    "collapsed": true
   },
   "outputs": [],
   "source": [
    "def improved_clarity_count(s, clarity=0):\n",
    "    \n",
    "    \"\"\"\n",
    "    Return the number of instances of the indicated diamond clarity in the given string.\n",
    "    \n",
    "    Parameters\n",
    "    ----------\n",
    "    s: str\n",
    "    A string containing the description of some diamonds.\n",
    "    \n",
    "    clarity: int\n",
    "    An integer between 0 and 4 (inclusive).  Default value is 0.\n",
    "    0 indicates 'IF', 1 is 'VVS1', 2 is 'VVS2', 3 is 'VS1', and 4 is 'VS2'\n",
    "    \n",
    "    Returns\n",
    "    -------\n",
    "    clar_count: int\n",
    "    Number of instances of diamond clarity.\n",
    "    \"\"\"\n",
    "    \n",
    "    if type(clarity)!= int:\n",
    "        print(\"Warning: clarity must be an integer.\")\n",
    "        return\n",
    "    \n",
    "    if clarity<0 or clarity>4:\n",
    "        print(\"Warning: clarity must be between 0 and 4, inclusive\")\n",
    "        return\n",
    "    \n",
    "    clar_string_list = ['IF', 'VVS1', 'VVS2', 'VS1', 'VS2']\n",
    "    clar_count = s.count(clar_string_list[clarity])\n",
    "    return clar_count"
   ]
  },
  {
   "cell_type": "code",
   "execution_count": 8,
   "metadata": {},
   "outputs": [
    {
     "data": {
      "text/plain": [
       "3"
      ]
     },
     "execution_count": 8,
     "metadata": {},
     "output_type": "execute_result"
    }
   ],
   "source": [
    "improved_clarity_count(\"IF IF IF\")"
   ]
  },
  {
   "cell_type": "code",
   "execution_count": 9,
   "metadata": {},
   "outputs": [
    {
     "name": "stdout",
     "output_type": "stream",
     "text": [
      "Warning: clarity must be between 0 and 4, inclusive\n"
     ]
    }
   ],
   "source": [
    "improved_clarity_count(\"IF IF IF\", 7)"
   ]
  },
  {
   "cell_type": "code",
   "execution_count": 10,
   "metadata": {},
   "outputs": [
    {
     "name": "stdout",
     "output_type": "stream",
     "text": [
      "Warning: clarity must be an integer.\n"
     ]
    }
   ],
   "source": [
    "improved_clarity_count(\"IF IF IF\", \"I like cats\")"
   ]
  },
  {
   "cell_type": "code",
   "execution_count": 11,
   "metadata": {},
   "outputs": [
    {
     "name": "stdout",
     "output_type": "stream",
     "text": [
      "Warning: clarity must be an integer.\n",
      "None\n"
     ]
    }
   ],
   "source": [
    "n = improved_clarity_count(\"IF IF IF\", \"I like cats\")\n",
    "print(n)"
   ]
  },
  {
   "cell_type": "markdown",
   "metadata": {},
   "source": [
    "# Lambda Functions\n",
    "\n",
    "Python allows us to create \"lambda functions\".  These are anonymous functions, where we don't store the function name.  Lambda functions can be useful if we want to apply a short function to all elements of a list or other data structure."
   ]
  },
  {
   "cell_type": "markdown",
   "metadata": {},
   "source": [
    "To demonstrate lambda functions, we need to create a list to work with.\n",
    "\n",
    "In Python, it's easy to iterate over the lines of a file.  Doing so makes it easier to plan for working with large files."
   ]
  },
  {
   "cell_type": "code",
   "execution_count": 12,
   "metadata": {},
   "outputs": [
    {
     "data": {
      "text/plain": [
       "[['Carat', 'Color', 'Clarity', 'Certified_by', 'Price'],\n",
       " ['0.3', 'D', 'VS2', 'GIA', '1302'],\n",
       " ['0.3', 'E', 'VS1', 'GIA', '1510'],\n",
       " ['0.3', 'G', 'VVS1', 'GIA', '1510'],\n",
       " ['0.3', 'G', 'VS1', 'GIA', '1260'],\n",
       " ['0.31', 'D', 'VS1', 'GIA', '1641'],\n",
       " ['0.31', 'E', 'VS1', 'GIA', '1555'],\n",
       " ['0.31', 'F', 'VS1', 'GIA', '1427'],\n",
       " ['0.31', 'G', 'VVS2', 'GIA', '1427'],\n",
       " ['0.31', 'H', 'VS2', 'GIA', '1126']]"
      ]
     },
     "execution_count": 12,
     "metadata": {},
     "output_type": "execute_result"
    }
   ],
   "source": [
    "# Make a list of the items in the diamonds.txt file\n",
    "diamond_list = []\n",
    "with open(\"diamonds.txt\") as diamond_file:\n",
    "    for line in diamond_file:\n",
    "        diamond_list.append(line.split())\n",
    "\n",
    "# display the first few lines of the resulting list\n",
    "diamond_list[0:10]"
   ]
  },
  {
   "cell_type": "code",
   "execution_count": 13,
   "metadata": {},
   "outputs": [
    {
     "data": {
      "text/plain": [
       "[['0.3', 'D', 'VS2', 'GIA', '1302'],\n",
       " ['0.3', 'E', 'VS1', 'GIA', '1510'],\n",
       " ['0.3', 'G', 'VVS1', 'GIA', '1510'],\n",
       " ['0.3', 'G', 'VS1', 'GIA', '1260'],\n",
       " ['0.31', 'D', 'VS1', 'GIA', '1641'],\n",
       " ['0.31', 'E', 'VS1', 'GIA', '1555'],\n",
       " ['0.31', 'F', 'VS1', 'GIA', '1427'],\n",
       " ['0.31', 'G', 'VVS2', 'GIA', '1427'],\n",
       " ['0.31', 'H', 'VS2', 'GIA', '1126'],\n",
       " ['0.31', 'I', 'VS1', 'GIA', '1126']]"
      ]
     },
     "execution_count": 13,
     "metadata": {},
     "output_type": "execute_result"
    }
   ],
   "source": [
    "# drop the \"title\" portion of the list\n",
    "diamond_list.pop(0)\n",
    "diamond_list[0:10]"
   ]
  },
  {
   "cell_type": "code",
   "execution_count": 14,
   "metadata": {},
   "outputs": [
    {
     "name": "stdout",
     "output_type": "stream",
     "text": [
      "[0.3, 0.3, 0.3, 0.3, 0.31, 0.31, 0.31, 0.31, 0.31, 0.31, 0.32, 0.32, 0.33, 0.33, 0.34, 0.34, 0.34, 0.34, 0.34, 0.34, 0.35, 0.35, 0.35, 0.35, 0.36, 0.36, 0.37, 0.37, 0.4, 0.4, 0.41, 0.43, 0.45, 0.46, 0.48, 0.5, 0.5, 0.5, 0.5, 0.5, 0.51, 0.51, 0.52, 0.52, 0.52, 0.52, 0.53, 0.53, 0.53, 0.53, 0.54, 0.54, 0.55, 0.55, 0.55, 0.56, 0.56, 0.57, 0.59, 0.6, 0.62, 0.63, 0.64, 0.66, 0.7, 0.7, 0.7, 0.7, 0.71, 0.71, 0.71, 0.71, 0.72, 0.8, 0.82, 0.84, 0.85, 0.86, 0.89, 0.9, 0.5, 0.5, 0.51, 0.55, 0.56, 0.57, 0.6, 0.63, 0.7, 0.7, 0.7, 0.7, 0.7, 0.7, 0.71, 0.71, 0.71, 0.72, 0.72, 0.73, 0.73, 0.73, 0.73, 0.73, 0.74, 0.74, 0.75, 0.75, 0.75, 0.76, 0.77, 0.78, 0.8, 0.83, 0.9, 1, 1, 1, 1, 1, 1, 1, 1, 1, 1, 1, 1, 1, 1, 1, 1.01, 1.01, 1.01, 1.01, 1.01, 1.01, 1.01, 1.01, 1.01, 1.01, 1.02, 1.02, 1.02, 1.03, 1.04, 1.04, 1.05, 1.06, 1.06, 1.07, 1.1, 0.18, 0.18, 0.18, 0.18, 0.18, 0.18, 0.19, 0.19, 0.19, 0.19, 0.19, 0.19, 0.19, 0.19, 0.2, 0.2, 0.2, 0.2, 0.21, 0.21, 0.21, 0.21, 0.22, 0.23, 0.23, 0.23, 0.24, 0.25, 0.25, 0.25, 0.25, 0.26, 0.26, 0.26, 0.26, 0.27, 0.27, 0.28, 0.29, 0.29, 0.3, 0.3, 0.3, 0.3, 0.3, 0.31, 0.31, 0.31, 0.32, 0.33, 0.34, 0.34, 0.35, 0.35, 0.4, 0.41, 0.41, 0.47, 0.48, 0.5, 0.51, 0.51, 0.52, 0.55, 0.56, 0.56, 0.58, 0.58, 0.58, 0.7, 0.7, 0.71, 0.76, 0.78, 1, 1.01, 1.01, 1.01, 0.5, 0.5, 0.51, 0.52, 0.52, 0.53, 0.53, 0.55, 0.56, 0.56, 0.57, 0.57, 0.58, 0.6, 0.6, 0.6, 0.61, 0.62, 0.64, 0.65, 0.66, 0.7, 0.7, 0.7, 0.7, 0.7, 0.71, 0.71, 0.72, 0.73, 0.73, 0.74, 0.8, 0.8, 0.8, 0.8, 0.8, 0.81, 0.81, 0.81, 0.81, 0.81, 0.82, 0.82, 0.85, 0.85, 0.85, 0.86, 1, 1, 1, 1, 1, 1, 1, 1, 1, 1, 1, 1, 1, 1, 1, 1, 1.01, 1.01, 1.01, 1.01, 1.01, 1.01, 1.01, 1.01, 1.01, 1.01, 1.01, 1.02, 1.06, 1.02, 1.09]\n"
     ]
    }
   ],
   "source": [
    "# Use a list comprehension to create a list of the carats in each diamond.\n",
    "# Note that the eval command converts a string to a number.\n",
    "\n",
    "carat_list = [eval(d[0]) for d in diamond_list]\n",
    "print(carat_list)"
   ]
  },
  {
   "cell_type": "markdown",
   "metadata": {},
   "source": [
    "The points $p$ of a diamond are related to its carats $c$ by $p = 100c$.\n",
    "\n",
    "We use a lambda function and the ```map``` command to convert our list of carats to a list of points."
   ]
  },
  {
   "cell_type": "code",
   "execution_count": 15,
   "metadata": {},
   "outputs": [
    {
     "name": "stdout",
     "output_type": "stream",
     "text": [
      "[30.0, 30.0, 30.0, 30.0, 31.0, 31.0, 31.0, 31.0, 31.0, 31.0, 32.0, 32.0, 33.0, 33.0, 34.0, 34.0, 34.0, 34.0, 34.0, 34.0, 35.0, 35.0, 35.0, 35.0, 36.0, 36.0, 37.0, 37.0, 40.0, 40.0, 41.0, 43.0, 45.0, 46.0, 48.0, 50.0, 50.0, 50.0, 50.0, 50.0, 51.0, 51.0, 52.0, 52.0, 52.0, 52.0, 53.0, 53.0, 53.0, 53.0, 54.0, 54.0, 55.00000000000001, 55.00000000000001, 55.00000000000001, 56.00000000000001, 56.00000000000001, 56.99999999999999, 59.0, 60.0, 62.0, 63.0, 64.0, 66.0, 70.0, 70.0, 70.0, 70.0, 71.0, 71.0, 71.0, 71.0, 72.0, 80.0, 82.0, 84.0, 85.0, 86.0, 89.0, 90.0, 50.0, 50.0, 51.0, 55.00000000000001, 56.00000000000001, 56.99999999999999, 60.0, 63.0, 70.0, 70.0, 70.0, 70.0, 70.0, 70.0, 71.0, 71.0, 71.0, 72.0, 72.0, 73.0, 73.0, 73.0, 73.0, 73.0, 74.0, 74.0, 75.0, 75.0, 75.0, 76.0, 77.0, 78.0, 80.0, 83.0, 90.0, 100, 100, 100, 100, 100, 100, 100, 100, 100, 100, 100, 100, 100, 100, 100, 101.0, 101.0, 101.0, 101.0, 101.0, 101.0, 101.0, 101.0, 101.0, 101.0, 102.0, 102.0, 102.0, 103.0, 104.0, 104.0, 105.0, 106.0, 106.0, 107.0, 110.00000000000001, 18.0, 18.0, 18.0, 18.0, 18.0, 18.0, 19.0, 19.0, 19.0, 19.0, 19.0, 19.0, 19.0, 19.0, 20.0, 20.0, 20.0, 20.0, 21.0, 21.0, 21.0, 21.0, 22.0, 23.0, 23.0, 23.0, 24.0, 25.0, 25.0, 25.0, 25.0, 26.0, 26.0, 26.0, 26.0, 27.0, 27.0, 28.000000000000004, 28.999999999999996, 28.999999999999996, 30.0, 30.0, 30.0, 30.0, 30.0, 31.0, 31.0, 31.0, 32.0, 33.0, 34.0, 34.0, 35.0, 35.0, 40.0, 41.0, 41.0, 47.0, 48.0, 50.0, 51.0, 51.0, 52.0, 55.00000000000001, 56.00000000000001, 56.00000000000001, 57.99999999999999, 57.99999999999999, 57.99999999999999, 70.0, 70.0, 71.0, 76.0, 78.0, 100, 101.0, 101.0, 101.0, 50.0, 50.0, 51.0, 52.0, 52.0, 53.0, 53.0, 55.00000000000001, 56.00000000000001, 56.00000000000001, 56.99999999999999, 56.99999999999999, 57.99999999999999, 60.0, 60.0, 60.0, 61.0, 62.0, 64.0, 65.0, 66.0, 70.0, 70.0, 70.0, 70.0, 70.0, 71.0, 71.0, 72.0, 73.0, 73.0, 74.0, 80.0, 80.0, 80.0, 80.0, 80.0, 81.0, 81.0, 81.0, 81.0, 81.0, 82.0, 82.0, 85.0, 85.0, 85.0, 86.0, 100, 100, 100, 100, 100, 100, 100, 100, 100, 100, 100, 100, 100, 100, 100, 100, 101.0, 101.0, 101.0, 101.0, 101.0, 101.0, 101.0, 101.0, 101.0, 101.0, 101.0, 102.0, 106.0, 102.0, 109.00000000000001]\n"
     ]
    }
   ],
   "source": [
    "point_list = list(map(lambda c: 100*c, carat_list))\n",
    "print(point_list)"
   ]
  },
  {
   "cell_type": "markdown",
   "metadata": {},
   "source": [
    "We could have created the same list using a list comprehension."
   ]
  },
  {
   "cell_type": "code",
   "execution_count": 16,
   "metadata": {},
   "outputs": [
    {
     "name": "stdout",
     "output_type": "stream",
     "text": [
      "[30.0, 30.0, 30.0, 30.0, 31.0, 31.0, 31.0, 31.0, 31.0, 31.0, 32.0, 32.0, 33.0, 33.0, 34.0, 34.0, 34.0, 34.0, 34.0, 34.0, 35.0, 35.0, 35.0, 35.0, 36.0, 36.0, 37.0, 37.0, 40.0, 40.0, 41.0, 43.0, 45.0, 46.0, 48.0, 50.0, 50.0, 50.0, 50.0, 50.0, 51.0, 51.0, 52.0, 52.0, 52.0, 52.0, 53.0, 53.0, 53.0, 53.0, 54.0, 54.0, 55.00000000000001, 55.00000000000001, 55.00000000000001, 56.00000000000001, 56.00000000000001, 56.99999999999999, 59.0, 60.0, 62.0, 63.0, 64.0, 66.0, 70.0, 70.0, 70.0, 70.0, 71.0, 71.0, 71.0, 71.0, 72.0, 80.0, 82.0, 84.0, 85.0, 86.0, 89.0, 90.0, 50.0, 50.0, 51.0, 55.00000000000001, 56.00000000000001, 56.99999999999999, 60.0, 63.0, 70.0, 70.0, 70.0, 70.0, 70.0, 70.0, 71.0, 71.0, 71.0, 72.0, 72.0, 73.0, 73.0, 73.0, 73.0, 73.0, 74.0, 74.0, 75.0, 75.0, 75.0, 76.0, 77.0, 78.0, 80.0, 83.0, 90.0, 100, 100, 100, 100, 100, 100, 100, 100, 100, 100, 100, 100, 100, 100, 100, 101.0, 101.0, 101.0, 101.0, 101.0, 101.0, 101.0, 101.0, 101.0, 101.0, 102.0, 102.0, 102.0, 103.0, 104.0, 104.0, 105.0, 106.0, 106.0, 107.0, 110.00000000000001, 18.0, 18.0, 18.0, 18.0, 18.0, 18.0, 19.0, 19.0, 19.0, 19.0, 19.0, 19.0, 19.0, 19.0, 20.0, 20.0, 20.0, 20.0, 21.0, 21.0, 21.0, 21.0, 22.0, 23.0, 23.0, 23.0, 24.0, 25.0, 25.0, 25.0, 25.0, 26.0, 26.0, 26.0, 26.0, 27.0, 27.0, 28.000000000000004, 28.999999999999996, 28.999999999999996, 30.0, 30.0, 30.0, 30.0, 30.0, 31.0, 31.0, 31.0, 32.0, 33.0, 34.0, 34.0, 35.0, 35.0, 40.0, 41.0, 41.0, 47.0, 48.0, 50.0, 51.0, 51.0, 52.0, 55.00000000000001, 56.00000000000001, 56.00000000000001, 57.99999999999999, 57.99999999999999, 57.99999999999999, 70.0, 70.0, 71.0, 76.0, 78.0, 100, 101.0, 101.0, 101.0, 50.0, 50.0, 51.0, 52.0, 52.0, 53.0, 53.0, 55.00000000000001, 56.00000000000001, 56.00000000000001, 56.99999999999999, 56.99999999999999, 57.99999999999999, 60.0, 60.0, 60.0, 61.0, 62.0, 64.0, 65.0, 66.0, 70.0, 70.0, 70.0, 70.0, 70.0, 71.0, 71.0, 72.0, 73.0, 73.0, 74.0, 80.0, 80.0, 80.0, 80.0, 80.0, 81.0, 81.0, 81.0, 81.0, 81.0, 82.0, 82.0, 85.0, 85.0, 85.0, 86.0, 100, 100, 100, 100, 100, 100, 100, 100, 100, 100, 100, 100, 100, 100, 100, 100, 101.0, 101.0, 101.0, 101.0, 101.0, 101.0, 101.0, 101.0, 101.0, 101.0, 101.0, 102.0, 106.0, 102.0, 109.00000000000001]\n"
     ]
    }
   ],
   "source": [
    "print([100*c for c in carat_list])"
   ]
  },
  {
   "cell_type": "markdown",
   "metadata": {},
   "source": [
    "One difference between the lambda function and the list comprehension is that using ```map``` with the lambda function returned an iterator (which we then converted to a list using the ```list``` command), while a list comprehension directly returns a list.  When we make a list, we have to store the whole thing in memory, which may be problematic if we have a lot of data."
   ]
  },
  {
   "cell_type": "code",
   "execution_count": 17,
   "metadata": {},
   "outputs": [
    {
     "name": "stdout",
     "output_type": "stream",
     "text": [
      "[30.0, 30.0, 30.0, 30.0, 31.0, 31.0, 31.0, 31.0, 31.0, 31.0, 32.0, 32.0, 33.0, 33.0, 34.0, 34.0, 34.0, 34.0, 34.0, 34.0, 35.0, 35.0, 35.0, 35.0, 36.0, 36.0, 37.0, 37.0, 40.0, 40.0, 41.0, 43.0, 45.0, 46.0, 48.0, 50.0, 50.0, 50.0, 50.0, 50.0, 51.0, 51.0, 52.0, 52.0, 52.0, 52.0, 53.0, 53.0, 53.0, 53.0, 54.0, 54.0, 55.00000000000001, 55.00000000000001, 55.00000000000001, 56.00000000000001, 56.00000000000001, 56.99999999999999, 59.0, 60.0, 62.0, 63.0, 64.0, 66.0, 70.0, 70.0, 70.0, 70.0, 71.0, 71.0, 71.0, 71.0, 72.0, 80.0, 82.0, 84.0, 85.0, 86.0, 89.0, 90.0, 50.0, 50.0, 51.0, 55.00000000000001, 56.00000000000001, 56.99999999999999, 60.0, 63.0, 70.0, 70.0, 70.0, 70.0, 70.0, 70.0, 71.0, 71.0, 71.0, 72.0, 72.0, 73.0, 73.0, 73.0, 73.0, 73.0, 74.0, 74.0, 75.0, 75.0, 75.0, 76.0, 77.0, 78.0, 80.0, 83.0, 90.0, 18.0, 18.0, 18.0, 18.0, 18.0, 18.0, 19.0, 19.0, 19.0, 19.0, 19.0, 19.0, 19.0, 19.0, 20.0, 20.0, 20.0, 20.0, 21.0, 21.0, 21.0, 21.0, 22.0, 23.0, 23.0, 23.0, 24.0, 25.0, 25.0, 25.0, 25.0, 26.0, 26.0, 26.0, 26.0, 27.0, 27.0, 28.000000000000004, 28.999999999999996, 28.999999999999996, 30.0, 30.0, 30.0, 30.0, 30.0, 31.0, 31.0, 31.0, 32.0, 33.0, 34.0, 34.0, 35.0, 35.0, 40.0, 41.0, 41.0, 47.0, 48.0, 50.0, 51.0, 51.0, 52.0, 55.00000000000001, 56.00000000000001, 56.00000000000001, 57.99999999999999, 57.99999999999999, 57.99999999999999, 70.0, 70.0, 71.0, 76.0, 78.0, 50.0, 50.0, 51.0, 52.0, 52.0, 53.0, 53.0, 55.00000000000001, 56.00000000000001, 56.00000000000001, 56.99999999999999, 56.99999999999999, 57.99999999999999, 60.0, 60.0, 60.0, 61.0, 62.0, 64.0, 65.0, 66.0, 70.0, 70.0, 70.0, 70.0, 70.0, 71.0, 71.0, 72.0, 73.0, 73.0, 74.0, 80.0, 80.0, 80.0, 80.0, 80.0, 81.0, 81.0, 81.0, 81.0, 81.0, 82.0, 82.0, 85.0, 85.0, 85.0, 86.0]\n"
     ]
    }
   ],
   "source": [
    "# Let's extract the diamonds with less than 100 points in two ways.\n",
    "# First we use the filter command.\n",
    "# Note that our lambda function here returns a boolean value, True or False\n",
    "\n",
    "print(list(filter(lambda x: x<100, point_list)))"
   ]
  },
  {
   "cell_type": "code",
   "execution_count": 18,
   "metadata": {},
   "outputs": [
    {
     "name": "stdout",
     "output_type": "stream",
     "text": [
      "[30.0, 30.0, 30.0, 30.0, 31.0, 31.0, 31.0, 31.0, 31.0, 31.0, 32.0, 32.0, 33.0, 33.0, 34.0, 34.0, 34.0, 34.0, 34.0, 34.0, 35.0, 35.0, 35.0, 35.0, 36.0, 36.0, 37.0, 37.0, 40.0, 40.0, 41.0, 43.0, 45.0, 46.0, 48.0, 50.0, 50.0, 50.0, 50.0, 50.0, 51.0, 51.0, 52.0, 52.0, 52.0, 52.0, 53.0, 53.0, 53.0, 53.0, 54.0, 54.0, 55.00000000000001, 55.00000000000001, 55.00000000000001, 56.00000000000001, 56.00000000000001, 56.99999999999999, 59.0, 60.0, 62.0, 63.0, 64.0, 66.0, 70.0, 70.0, 70.0, 70.0, 71.0, 71.0, 71.0, 71.0, 72.0, 80.0, 82.0, 84.0, 85.0, 86.0, 89.0, 90.0, 50.0, 50.0, 51.0, 55.00000000000001, 56.00000000000001, 56.99999999999999, 60.0, 63.0, 70.0, 70.0, 70.0, 70.0, 70.0, 70.0, 71.0, 71.0, 71.0, 72.0, 72.0, 73.0, 73.0, 73.0, 73.0, 73.0, 74.0, 74.0, 75.0, 75.0, 75.0, 76.0, 77.0, 78.0, 80.0, 83.0, 90.0, 18.0, 18.0, 18.0, 18.0, 18.0, 18.0, 19.0, 19.0, 19.0, 19.0, 19.0, 19.0, 19.0, 19.0, 20.0, 20.0, 20.0, 20.0, 21.0, 21.0, 21.0, 21.0, 22.0, 23.0, 23.0, 23.0, 24.0, 25.0, 25.0, 25.0, 25.0, 26.0, 26.0, 26.0, 26.0, 27.0, 27.0, 28.000000000000004, 28.999999999999996, 28.999999999999996, 30.0, 30.0, 30.0, 30.0, 30.0, 31.0, 31.0, 31.0, 32.0, 33.0, 34.0, 34.0, 35.0, 35.0, 40.0, 41.0, 41.0, 47.0, 48.0, 50.0, 51.0, 51.0, 52.0, 55.00000000000001, 56.00000000000001, 56.00000000000001, 57.99999999999999, 57.99999999999999, 57.99999999999999, 70.0, 70.0, 71.0, 76.0, 78.0, 50.0, 50.0, 51.0, 52.0, 52.0, 53.0, 53.0, 55.00000000000001, 56.00000000000001, 56.00000000000001, 56.99999999999999, 56.99999999999999, 57.99999999999999, 60.0, 60.0, 60.0, 61.0, 62.0, 64.0, 65.0, 66.0, 70.0, 70.0, 70.0, 70.0, 70.0, 71.0, 71.0, 72.0, 73.0, 73.0, 74.0, 80.0, 80.0, 80.0, 80.0, 80.0, 81.0, 81.0, 81.0, 81.0, 81.0, 82.0, 82.0, 85.0, 85.0, 85.0, 86.0]\n"
     ]
    }
   ],
   "source": [
    "# Next we use a list comprehension.\n",
    "print([x for x in point_list if x<100])"
   ]
  },
  {
   "cell_type": "code",
   "execution_count": null,
   "metadata": {
    "collapsed": true
   },
   "outputs": [],
   "source": []
  }
 ],
 "metadata": {
  "kernelspec": {
   "display_name": "Python 3",
   "language": "python",
   "name": "python3"
  },
  "language_info": {
   "codemirror_mode": {
    "name": "ipython",
    "version": 3
   },
   "file_extension": ".py",
   "mimetype": "text/x-python",
   "name": "python",
   "nbconvert_exporter": "python",
   "pygments_lexer": "ipython3",
   "version": "3.6.1"
  }
 },
 "nbformat": 4,
 "nbformat_minor": 1
}
