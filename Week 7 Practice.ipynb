{
 "cells": [
  {
   "cell_type": "code",
   "execution_count": 3,
   "metadata": {},
   "outputs": [
    {
     "name": "stdout",
     "output_type": "stream",
     "text": [
      "[102.56, 97.7, 99.14, 100.4, 100.03999999999999]\n",
      "[39.2, 36.5, 37.300000000000004, 38.00000000000001, 37.8]\n"
     ]
    }
   ],
   "source": [
    "#using lambda + map to do celcius to farenheit (and back)\n",
    "C = [39.2, 36.5, 37.3, 38, 37.8] \n",
    "F = list(map(lambda x: (float(9)/5)*x + 32, C))\n",
    "print(F)\n",
    "C = list(map(lambda x: (float(5)/9)*(x-32), F))\n",
    "print(C)"
   ]
  },
  {
   "cell_type": "code",
   "execution_count": 3,
   "metadata": {},
   "outputs": [
    {
     "name": "stdout",
     "output_type": "stream",
     "text": [
      "[1.2246467991473532e-16, -1.0, -1.2246467991473532e-16]\n"
     ]
    }
   ],
   "source": [
    "from math import sin, cos, tan, pi\n",
    "\n",
    "def map_functions(x, functions):\n",
    "     \"\"\" map an iterable of functions on the the object x \"\"\"\n",
    "     res = []\n",
    "     for func in functions:\n",
    "         res.append(func(x))\n",
    "     return res\n",
    "\n",
    "family_of_functions = (sin, cos, tan)\n",
    "print(map_functions(pi, family_of_functions))"
   ]
  },
  {
   "cell_type": "code",
   "execution_count": 4,
   "metadata": {},
   "outputs": [
    {
     "name": "stdout",
     "output_type": "stream",
     "text": [
      "[1.2246467991473532e-16, -1.0, -1.2246467991473532e-16]\n"
     ]
    }
   ],
   "source": [
    "#same as above with list comprehension\n",
    "def map_functions(x, functions):\n",
    "     return [ func(x) for func in functions ]\n",
    "family_of_functions = (sin, cos, tan)\n",
    "print(map_functions(pi, family_of_functions))    "
   ]
  },
  {
   "cell_type": "code",
   "execution_count": 5,
   "metadata": {},
   "outputs": [
    {
     "name": "stdout",
     "output_type": "stream",
     "text": [
      "Tuesday! Wednesday! \n"
     ]
    }
   ],
   "source": [
    "weekdays = [\"Sunday\", \"Monday\", \"Tuesday\", \"Wednesday\", \"Thursday\", \"Friday\", \"Saturday\"]\n",
    "e_str = \"\"\n",
    "for w in filter(lambda s: \"e\" in s, weekdays):\n",
    "    e_str = e_str+w+\"! \"\n",
    "print(e_str)"
   ]
  },
  {
   "cell_type": "code",
   "execution_count": 8,
   "metadata": {},
   "outputs": [
    {
     "name": "stdout",
     "output_type": "stream",
     "text": [
      "A-\n"
     ]
    }
   ],
   "source": [
    "letter_grades = [\"A\",\"B\",\"C\",\"D\",\"F\"]\n",
    "a_list = next(map(lambda s: [s+\"+\",s,s+\"-\"], letter_grades))\n",
    "print(a_list[2])"
   ]
  }
 ],
 "metadata": {
  "kernelspec": {
   "display_name": "Python 3",
   "language": "python",
   "name": "python3"
  },
  "language_info": {
   "codemirror_mode": {
    "name": "ipython",
    "version": 3
   },
   "file_extension": ".py",
   "mimetype": "text/x-python",
   "name": "python",
   "nbconvert_exporter": "python",
   "pygments_lexer": "ipython3",
   "version": "3.6.1"
  }
 },
 "nbformat": 4,
 "nbformat_minor": 2
}
