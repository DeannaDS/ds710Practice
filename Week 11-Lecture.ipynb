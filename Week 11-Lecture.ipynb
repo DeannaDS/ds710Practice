{
 "cells": [
  {
   "cell_type": "code",
   "execution_count": 2,
   "metadata": {
    "collapsed": true
   },
   "outputs": [],
   "source": [
    "#read in a file object. R = read\n",
    "fobj = open(\"jabberwocky.txt\", \"r\")\n",
    "\n",
    "#close it again\n",
    "fobj.close()"
   ]
  },
  {
   "cell_type": "code",
   "execution_count": 3,
   "metadata": {
    "collapsed": true
   },
   "outputs": [],
   "source": [
    "#write into a file\n",
    "fh = open(\"example.txt\", \"w\")\n",
    "fh.write(\"To write or not write\\nthat is the question!\\n\")\n",
    "fh.close()"
   ]
  },
  {
   "cell_type": "code",
   "execution_count": 4,
   "metadata": {
    "collapsed": true
   },
   "outputs": [],
   "source": [
    "#write a file using with, which auto-closes the file\n",
    "with open(\"example.txt\", \"w\") as fh:\n",
    "    fh.write(\"To write or not to write\\nthat is the question!\\n\")"
   ]
  },
  {
   "cell_type": "code",
   "execution_count": 5,
   "metadata": {},
   "outputs": [
    {
     "name": "stdout",
     "output_type": "stream",
     "text": [
      "'Twas brillig, and the slithy toves\n",
      "      Did gyre and gimble in the wabe:\n",
      "All mimsy were the borogoves,\n",
      "      And the mome raths outgrabe.\n",
      "\n",
      "\"Beware the Jabberwock, my son!\n",
      "      The jaws that bite, the claws that catch!\n",
      "Beware the Jubjub bird, and shun\n",
      "      The frumious Bandersnatch!\"\n",
      "\n",
      "He took his vorpal sword in hand;\n",
      "      Long time the manxome foe he sought--\n",
      "So rested he by the Tumtum tree\n",
      "      And stood awhile in thought.\n",
      "\n",
      "And, as in uffish thought he stood,\n",
      "      The Jabberwock, with eyes of flame,\n",
      "Came whiffling through the tulgey wood,\n",
      "      And burbled as it came!\n",
      "\n",
      "One, two! One, two! And through and through\n",
      "      The vorpal blade went snicker-snack!\n",
      "He left it dead, and with its head\n",
      "      He went galumphing back.\n",
      "\n",
      "\"And hast thou slain the Jabberwock?\n",
      "      Come to my arms, my beamish boy!\n",
      "O frabjous day! Callooh! Callay!\"\n",
      "      He chortled in his joy.\n",
      "\n",
      "'Twas brillig, and the slithy toves\n",
      "      Did gyre and gimble in the wabe:\n",
      "All mimsy were the borogoves,\n",
      "      And the mome raths outgrabe.\n"
     ]
    }
   ],
   "source": [
    "#read and write at same time\n",
    "fobj_in = open(\"jabberwocky.txt\")\n",
    "fobj_out = open(\"jabberwocky2.txt\",\"w\")\n",
    "i = 1\n",
    "for line in fobj_in:\n",
    "    print(line.rstrip())\n",
    "    fobj_out.write(str(i) + \": \" + line)\n",
    "    i = i + 1\n",
    "fobj_in.close()\n",
    "fobj_out.close()"
   ]
  },
  {
   "cell_type": "code",
   "execution_count": 7,
   "metadata": {},
   "outputs": [
    {
     "name": "stdout",
     "output_type": "stream",
     "text": [
      "nd the slithy tove\n"
     ]
    }
   ],
   "source": [
    "#read in one go\n",
    "poem = open(\"jabberwocky.txt\").read()\n",
    "print(poem[16:34])\n"
   ]
  },
  {
   "cell_type": "code",
   "execution_count": 9,
   "metadata": {},
   "outputs": [
    {
     "name": "stdout",
     "output_type": "stream",
     "text": [
      "0\n",
      "Stately\n",
      "7\n",
      ", plump Buck Mulligan came from the stairhead, bearing a bowl of lather on which a mirror and a razor lay crossed.\n",
      "121\n",
      "9\n",
      "plump\n"
     ]
    }
   ],
   "source": [
    "#use the tell and seek commands to move around in a file\n",
    "fh = open(\"buck_mulligan.txt\")\n",
    "print(fh.tell())\n",
    "print(fh.read(7))\n",
    "print(fh.tell())\n",
    "print(fh.read())\n",
    "print(fh.tell())\n",
    "print(fh.seek(9))\n",
    "print(fh.read(5))"
   ]
  },
  {
   "cell_type": "code",
   "execution_count": 11,
   "metadata": {},
   "outputs": [
    {
     "name": "stdout",
     "output_type": "stream",
     "text": [
      "Stately, plump \n",
      "9\n",
      "plump\n"
     ]
    }
   ],
   "source": [
    "#use tell as a relative parameter\n",
    "fh = open(\"buck_mulligan.txt\")\n",
    "\n",
    "print(fh.read(15))\n",
    "#set position 6 characters to the left\n",
    "print(fh.seek(fh.tell() - 6))\n",
    "#read 5 characters\n",
    "print(fh.read(5))"
   ]
  },
  {
   "cell_type": "code",
   "execution_count": 12,
   "metadata": {},
   "outputs": [
    {
     "name": "stdout",
     "output_type": "stream",
     "text": [
      "brown\n",
      "16\n",
      "The colour green\n"
     ]
    }
   ],
   "source": [
    "#read and right to the same file\n",
    "fh = open('colours.txt', 'w+')\n",
    "fh.write('The colour brown')\n",
    "\n",
    "# Go to the 12th byte in the file, counting starts with 0\n",
    "fh.seek(11)   \n",
    "print(fh.read(5))\n",
    "print(fh.tell())\n",
    "fh.seek(11)\n",
    "fh.write('green')\n",
    "fh.seek(0)\n",
    "content = fh.read()\n",
    "print(content)"
   ]
  },
  {
   "cell_type": "code",
   "execution_count": 13,
   "metadata": {
    "collapsed": true
   },
   "outputs": [],
   "source": [
    "#using pickle to serialize objects for file storage\n",
    "import pickle\n",
    "\n",
    "cities = [\"Paris\", \"Dijon\", \"Lyon\", \"Strasbourg\"]\n",
    "fh = open(\"data.pkl\", \"bw\")\n",
    "pickle.dump(cities, fh)\n",
    "fh.close()"
   ]
  },
  {
   "cell_type": "code",
   "execution_count": 14,
   "metadata": {},
   "outputs": [
    {
     "name": "stdout",
     "output_type": "stream",
     "text": [
      "['Paris', 'Dijon', 'Lyon', 'Strasbourg']\n"
     ]
    }
   ],
   "source": [
    "#using pickle to deserialize objects\n",
    "f = open(\"data.pkl\", \"rb\")\n",
    "villes = pickle.load(f)\n",
    "print(villes)"
   ]
  },
  {
   "cell_type": "code",
   "execution_count": 15,
   "metadata": {
    "collapsed": true
   },
   "outputs": [],
   "source": [
    "#pickle multiple objects by packing them into one\n",
    "fh = open(\"data.pkl\",\"bw\")\n",
    "programming_languages = [\"Python\", \"Perl\", \"C++\", \"Java\", \"Lisp\"]\n",
    "python_dialects = [\"Jython\", \"IronPython\", \"CPython\"]\n",
    "pickle_object = (programming_languages, python_dialects)\n",
    "pickle.dump(pickle_object,fh)\n",
    "fh.close()"
   ]
  },
  {
   "cell_type": "code",
   "execution_count": 16,
   "metadata": {},
   "outputs": [
    {
     "name": "stdout",
     "output_type": "stream",
     "text": [
      "['Python', 'Perl', 'C++', 'Java', 'Lisp'] ['Jython', 'IronPython', 'CPython']\n"
     ]
    }
   ],
   "source": [
    "#read it back in\n",
    "f = open(\"data.pkl\",\"rb\")\n",
    "(languages, dialects) = pickle.load(f)\n",
    "print(languages, dialects)"
   ]
  },
  {
   "cell_type": "code",
   "execution_count": 18,
   "metadata": {},
   "outputs": [
    {
     "name": "stdout",
     "output_type": "stream",
     "text": [
      "street\n",
      "city\n"
     ]
    }
   ],
   "source": [
    "#use the shelf module to store dictionaries of objects, instead of just a single object\n",
    "import shelve\n",
    "s = shelve.open(\"MyShelve\")\n",
    "s[\"street\"] = \"Fleet Str\"\n",
    "s[\"city\"] = \"London\"\n",
    "for key in s:\n",
    "     print(key)\n",
    "s.close()        "
   ]
  },
  {
   "cell_type": "code",
   "execution_count": 19,
   "metadata": {},
   "outputs": [
    {
     "data": {
      "text/plain": [
       "{'city': 'London', 'street': 'Fleet Str'}"
      ]
     },
     "execution_count": 19,
     "metadata": {},
     "output_type": "execute_result"
    }
   ],
   "source": [
    "#read the shelf object back in\n",
    "s2 = shelve.open(\"MyShelve\")\n",
    "\n",
    "#cast it to an ordinary dictionary\n",
    "dict(s2)"
   ]
  }
 ],
 "metadata": {
  "kernelspec": {
   "display_name": "Python 3",
   "language": "python",
   "name": "python3"
  },
  "language_info": {
   "codemirror_mode": {
    "name": "ipython",
    "version": 3
   },
   "file_extension": ".py",
   "mimetype": "text/x-python",
   "name": "python",
   "nbconvert_exporter": "python",
   "pygments_lexer": "ipython3",
   "version": "3.6.1"
  }
 },
 "nbformat": 4,
 "nbformat_minor": 2
}
