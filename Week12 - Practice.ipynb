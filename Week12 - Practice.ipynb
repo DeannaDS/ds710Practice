{
 "cells": [
  {
   "cell_type": "code",
   "execution_count": 1,
   "metadata": {},
   "outputs": [
    {
     "name": "stdout",
     "output_type": "stream",
     "text": [
      "True\n",
      "False\n"
     ]
    }
   ],
   "source": [
    "#create a robot class\n",
    "class Robot:\n",
    "    pass\n",
    "\n",
    "#use the Robot class\n",
    "if __name__ == \"__main__\":\n",
    "    x = Robot()\n",
    "    y = Robot()\n",
    "    y2 = y\n",
    "    print(y == y2)\n",
    "    print(y == x)"
   ]
  },
  {
   "cell_type": "code",
   "execution_count": 2,
   "metadata": {},
   "outputs": [
    {
     "data": {
      "text/plain": [
       "{'name': 'marvin', 'yearbuilt': 1993}"
      ]
     },
     "execution_count": 2,
     "metadata": {},
     "output_type": "execute_result"
    }
   ],
   "source": [
    "#give a robot some arbitrary parameters - they are stored in an internal dictionary\n",
    "\n",
    "x.name = \"marvin\"\n",
    "x.yearbuilt = 1993\n",
    "\n",
    "x.__dict__"
   ]
  },
  {
   "cell_type": "code",
   "execution_count": 3,
   "metadata": {},
   "outputs": [
    {
     "data": {
      "text/plain": [
       "100"
      ]
     },
     "execution_count": 3,
     "metadata": {},
     "output_type": "execute_result"
    }
   ],
   "source": [
    "#use getattr() function to avoid calling an attribute that doesn't exist\n",
    "getattr(x, 'energy', 100)"
   ]
  },
  {
   "cell_type": "code",
   "execution_count": 5,
   "metadata": {},
   "outputs": [
    {
     "name": "stdout",
     "output_type": "stream",
     "text": [
      "34\n",
      "42\n"
     ]
    }
   ],
   "source": [
    "#functions are objects, and can have attributes branded to them\n",
    "def f(x):\n",
    "    return 42\n",
    "\n",
    "f.x = 34\n",
    "print(f.x)\n",
    "print(f(1))"
   ]
  },
  {
   "cell_type": "code",
   "execution_count": 6,
   "metadata": {},
   "outputs": [
    {
     "name": "stdout",
     "output_type": "stream",
     "text": [
      "10\n"
     ]
    }
   ],
   "source": [
    "def f(x):\n",
    "    f.counter = getattr(f, \"counter\", 0) + 1 \n",
    "    return \"Monty Python\"\n",
    "        \n",
    "\n",
    "for i in range(10):\n",
    "    f(i)\n",
    "    \n",
    "print(f.counter)"
   ]
  },
  {
   "cell_type": "code",
   "execution_count": 7,
   "metadata": {},
   "outputs": [
    {
     "name": "stdout",
     "output_type": "stream",
     "text": [
      "Hi, I am Marvin\n"
     ]
    }
   ],
   "source": [
    "#assigning methods the wrong way\n",
    "def hi(obj):\n",
    "        print(\"Hi, I am \" + obj.name)\n",
    "\n",
    "class Robot:\n",
    "    say_hi = hi\n",
    "    \n",
    "\n",
    "x = Robot()\n",
    "x.name = \"Marvin\"\n",
    "Robot.say_hi(x)"
   ]
  },
  {
   "cell_type": "code",
   "execution_count": 8,
   "metadata": {},
   "outputs": [
    {
     "name": "stdout",
     "output_type": "stream",
     "text": [
      "Hi, I am a robot without a name\n",
      "Hi, I am Marvin\n"
     ]
    }
   ],
   "source": [
    "#defining attributes and methods the right way\n",
    "class Robot:\n",
    " \n",
    "    def __init__(self, name=None):\n",
    "        self.name = name   \n",
    "        \n",
    "    def say_hi(self):\n",
    "        if self.name:\n",
    "            print(\"Hi, I am \" + self.name)\n",
    "        else:\n",
    "            print(\"Hi, I am a robot without a name\")\n",
    "    \n",
    "\n",
    "x = Robot()\n",
    "x.say_hi()\n",
    "y = Robot(\"Marvin\")\n",
    "y.say_hi()"
   ]
  }
 ],
 "metadata": {
  "kernelspec": {
   "display_name": "Python 3",
   "language": "python",
   "name": "python3"
  },
  "language_info": {
   "codemirror_mode": {
    "name": "ipython",
    "version": 3
   },
   "file_extension": ".py",
   "mimetype": "text/x-python",
   "name": "python",
   "nbconvert_exporter": "python",
   "pygments_lexer": "ipython3",
   "version": "3.6.1"
  }
 },
 "nbformat": 4,
 "nbformat_minor": 2
}
