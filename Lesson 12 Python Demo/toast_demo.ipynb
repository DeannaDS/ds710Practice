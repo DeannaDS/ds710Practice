{
 "cells": [
  {
   "cell_type": "markdown",
   "metadata": {},
   "source": [
    "# Object Oriented Programming Demo: Toast!\n",
    "\n",
    "In this demo we're going to write python classes to represent bread, some common bread variants, and some operations on bread.\n",
    "\n",
    "First, we create a very basic Bread class."
   ]
  },
  {
   "cell_type": "code",
   "execution_count": 1,
   "metadata": {
    "collapsed": true
   },
   "outputs": [],
   "source": [
    "#-----------------------------------------------------------------------------\n",
    "# Right now, there are 5 types of bread.  The type is set on initialization\n",
    "#   using the `setter method', set_type.  set_type may also be used directly.\n",
    "#\n",
    "# You can find the type of a Bread instance using the `geter method', get_type.\n",
    "#-----------------------------------------------------------------------------\n",
    "# Bread inherits from the general python \"object\" class.\n",
    "class Bread(object):\n",
    "\n",
    "    # This is called a \"class data member\".  It will be the same for all \n",
    "    #    Bread instances.  The leading underscore is used because this \n",
    "    #    constant is meant to be `private'.  I.e., I do not intend for \n",
    "    #    users to access it directly; but rather for it to be used by \n",
    "    #    class methods.\n",
    "    _valid_bread_types=\"Sliced Croissant Bagel Pita Roll\".split()\n",
    "\n",
    "    # This method is a `setter'.  It verifies that the user-specified type\n",
    "    #   of bread is in _valid_bread_types.  If so, it sets the instance \n",
    "    #   member type to the user-specified value.  If not, it raises an\n",
    "    #   exception.\n",
    "    def set_type(self,btype):\n",
    "        if btype not in self._valid_bread_types:\n",
    "            raise(ValueError(\"%s is not a valid bread type.\"%btype))\n",
    "        self.type=btype\n",
    "\n",
    "    # This is an initializer.  The 2 leading underscores are used because \n",
    "    #   python will allow users to access this special method by typing \n",
    "    #   Bread(...) rather than Bread.__init__(...)\n",
    "    #\n",
    "    # The initializer calls the setter with the user-specified bread type.\n",
    "    # \n",
    "    # The default bread type is \"Sliced\".\n",
    "    def __init__(self,btype=\"Sliced\"): self.set_type(btype)\n",
    "\n",
    "    # This a `getter'.  It simply returns the type for the Bread instance.\n",
    "    def get_type(self): return self.type"
   ]
  },
  {
   "cell_type": "markdown",
   "metadata": {},
   "source": [
    "Now that we have a Bread class, we may create a few pieces of bread."
   ]
  },
  {
   "cell_type": "code",
   "execution_count": 2,
   "metadata": {
    "collapsed": false
   },
   "outputs": [
    {
     "name": "stdout",
     "output_type": "stream",
     "text": [
      "You have a Croissant!\n",
      "You have Sliced bread!\n"
     ]
    }
   ],
   "source": [
    "# Let's make a croissant, and check that it worked...\n",
    "croissant=Bread(\"Croissant\")\n",
    "print(\"You have a %s!\"%croissant.get_type())\n",
    "\n",
    "# And now let's use the default type to create a slice of bread...\n",
    "sliced=Bread()\n",
    "print(\"You have %s bread!\"%sliced.get_type())"
   ]
  },
  {
   "cell_type": "markdown",
   "metadata": {},
   "source": [
    "Note that we can change the bread type using the setter."
   ]
  },
  {
   "cell_type": "code",
   "execution_count": 3,
   "metadata": {
    "collapsed": false
   },
   "outputs": [
    {
     "name": "stdout",
     "output_type": "stream",
     "text": [
      "Now your `croissant' is a Bagel!\n"
     ]
    }
   ],
   "source": [
    "# Let's turn our croissant into a bagel...\n",
    "croissant.set_type(\"Bagel\")\n",
    "print(\"Now your `croissant' is a %s!\"%croissant.get_type())"
   ]
  },
  {
   "cell_type": "markdown",
   "metadata": {},
   "source": [
    "A class with an initializer, some getters, and some setters is about as basic as object oriented program gets.  If this is all you need, then you are really just using a class as a fancy container for your data.  In this case, you are probably better off just using a python dictionary. (E.g. sliced[\"type\"] = \"Bagel\" is roughly equivalent to a setter and sliced.get(\"type\") to a getter.)\n",
    "\n",
    "One of the most useful things about classes is their ability to inherit properties from other classes.  \n",
    "\n",
    "Since everyone prefers toast to plain bread, let's learn a little about inheritance by creating a ToastableBread class that inherits from our Bread class.  "
   ]
  },
  {
   "cell_type": "code",
   "execution_count": 4,
   "metadata": {
    "collapsed": true
   },
   "outputs": [],
   "source": [
    "#-----------------------------------------------------------------------------\n",
    "# ToastableBread is Bread that has a level of toastiness.\n",
    "#-----------------------------------------------------------------------------\n",
    "# ToastableBread inherits from class Bread\n",
    "class ToastableBread(Bread):\n",
    "\n",
    "    # Private class data member with valid levels of toastiness.\n",
    "    _valid_toastiness=\"Untoasted Light Tan Medium Brown Burnt\".split()\n",
    "\n",
    "    # Sets toastiness.  Raises an exception if toastiness is not valid.\n",
    "    def set_toastiness(self,toastiness):\n",
    "        if toastiness not in self._valid_toastiness:\n",
    "            raise(ValueError(\"%s is not a valid toastiness.\"%toastiness))\n",
    "        self.toastiness=toastiness\n",
    "\n",
    "    # Initializer.  Sets bread type and toastiness.  Defaults are\n",
    "    #   Untoasted, Sliced bread.\n",
    "    def __init__(self,btype=\"Sliced\",toastiness=\"Untoasted\"):\n",
    "        self.set_type(btype)\n",
    "        self.set_toastiness(toastiness)\n",
    "\n",
    "    # Getter that returns the instance value of toastiness.\n",
    "    def get_toastiness(self): return self.toastiness\n"
   ]
  },
  {
   "cell_type": "markdown",
   "metadata": {},
   "source": [
    "You may have noticed that we did not define a getter or setter for the bread type, even though we used set_type in our new initializer.  That's because these class methods have been inherited from the bread class.\n",
    "\n",
    "Let's make some toastable bread and see."
   ]
  },
  {
   "cell_type": "code",
   "execution_count": 5,
   "metadata": {
    "collapsed": false
   },
   "outputs": [
    {
     "name": "stdout",
     "output_type": "stream",
     "text": [
      "You have Untoasted Sliced bread.\n",
      "You have a Burnt Croissant.\n"
     ]
    }
   ],
   "source": [
    "# Let's just use the defaults...\n",
    "untoast=ToastableBread()\n",
    "print(\"You have %s %s bread.\"%(untoast.get_toastiness(),untoast.get_type()))\n",
    "\n",
    "# And now maybe a burnt croissant...\n",
    "burnt_croissant=ToastableBread(\"Croissant\",\"Burnt\")\n",
    "print(\"You have a %s %s.\"%(burnt_croissant.get_toastiness(),burnt_croissant.get_type()))"
   ]
  },
  {
   "cell_type": "code",
   "execution_count": 6,
   "metadata": {
    "collapsed": false
   },
   "outputs": [
    {
     "name": "stdout",
     "output_type": "stream",
     "text": [
      "You have a Medium-toasted Croissant.\n"
     ]
    }
   ],
   "source": [
    "# And, of course, we can use our setter to un-burn our croissant.\n",
    "burnt_croissant.set_toastiness(\"Medium\")\n",
    "print(\"You have a %s-toasted %s.\"%(burnt_croissant.get_toastiness(),burnt_croissant.get_type()))"
   ]
  },
  {
   "cell_type": "markdown",
   "metadata": {},
   "source": [
    "Already, there are a number of things that can be improved upon.  For one, un-toasting bread is clearly not possible; so the set_toastiness method should probably ensure that toastiness level only increases.  For two, it would be nice if the bread and/or toastable bread classes formulated a full description for you -- i.e. untoast.get_description() could return \"Untoasted, sliced bread\" or some such.  You are officially encouraged to fix that on your own.\n",
    "\n",
    "Here, however, we will focus on how the bread gets toasted.  It's not right that bread should toast itself -- it needs a toaster."
   ]
  },
  {
   "cell_type": "code",
   "execution_count": 7,
   "metadata": {
    "collapsed": true
   },
   "outputs": [],
   "source": [
    "#-----------------------------------------------------------------------------\n",
    "# Currently, toasters have a color, and a toastiness setting.  The toastiness\n",
    "#   setting is used to determine how toasty your ToastableBread will get.\n",
    "#\n",
    "# For our purposes, the toastiness settings are the same as those for \n",
    "#   ToastableBread, minus `Untoasted'.\n",
    "#-----------------------------------------------------------------------------\n",
    "# Toaster inherits from object...  A toaster is *not* a type of bread!\n",
    "class Toaster(object):\n",
    "    \n",
    "    # Class members for valid colors and toastiness settings.\n",
    "    _valid_colors=\"Black Chrome White Red\".split()\n",
    "    _valid_toastiness_settings=\"Light Tan Medium Brown Burnt\".split()\n",
    "\n",
    "    # A setter for the toasters color.  Raises an exception if the color is invalid.\n",
    "    def set_color(self,color):\n",
    "        if color not in self._valid_colors:\n",
    "            raise(ValueError(\"%s is not a valid toaster color.\"%color))\n",
    "        self.color=color\n",
    "\n",
    "    # A setter for the toastiness setting.  Raises an exception if the setting is not valid.\n",
    "    def set_toastiness_setting(self,bs):\n",
    "        if bs not in self._valid_toastiness_settings:\n",
    "            raise(ValueError(\"%s is not a valid toastiness setting.\"%bs))\n",
    "        self.toastiness_setting=bs\n",
    "\n",
    "    # Initializer.  Defaults are a black toaster set to Medium.\n",
    "    def __init__(self,toastiness_setting=\"Medium\",color=\"Black\"):\n",
    "        self.set_color(color)\n",
    "        self.set_toastiness_setting(toastiness_setting)\n",
    "\n",
    "    # A getter for the color of the toaster.\n",
    "    def get_color(self): return self.color\n",
    "\n",
    "    # A getter for the toastiness setting.\n",
    "    def get_toastiness_setting(self): return self.toastiness_setting\n",
    "\n",
    "    # Method to toast bread.  Takes an instance of class ToastableBread as input,\n",
    "    #   sets the toastiness of the bread equal to the toastiness setting of the\n",
    "    #   toaster, and returns the bread. (The toasting is done in place, so returning\n",
    "    #   the bread is, admittedly, redundant.)\n",
    "    def toast(self,toastable_bread):\n",
    "        toastable_bread.set_toastiness(self.get_toastiness_setting())\n",
    "        return toastable_bread\n"
   ]
  },
  {
   "cell_type": "markdown",
   "metadata": {},
   "source": [
    "Now we can use our toaster to toast our untoasted bread!"
   ]
  },
  {
   "cell_type": "code",
   "execution_count": 8,
   "metadata": {
    "collapsed": false
   },
   "outputs": [
    {
     "name": "stdout",
     "output_type": "stream",
     "text": [
      "Now you have Medium-toasted Sliced bread.\n"
     ]
    }
   ],
   "source": [
    "toaster=Toaster()\n",
    "toaster.toast(untoast)\n",
    "print(\"Now you have %s-toasted %s bread.\"%(untoast.get_toastiness(),untoast.get_type()))\n"
   ]
  },
  {
   "cell_type": "markdown",
   "metadata": {},
   "source": [
    "One last note.  When doing object oriented design; it's sometimes helpful to think in terms of these three types of relations ships:\n",
    "\n",
    "### Has-a\n",
    "In our classes, Bread <i>has a</i> type.  A toaster <i>has a</i> color.  This <i>has-a</i> relationship corresponds to data members.\n",
    "\n",
    "### Is-a \n",
    "We also saw that ToastableBread <i>is a</i> type of bread.  The <i>is-a</i> relationship corresponds to inheritance (A <i>is-a</i> B indicates that A inherits from B).\n",
    "\n",
    "### Uses-a\n",
    "Finally, we saw that a Toaster <i>uses a</i> ToastableBread to make toast.  The <i>uses-a</i> relationship indicates an association between the classes; but <b>not</b> inheritance or membership."
   ]
  }
 ],
 "metadata": {
  "kernelspec": {
   "display_name": "Python 3",
   "language": "python",
   "name": "python3"
  },
  "language_info": {
   "codemirror_mode": {
    "name": "ipython",
    "version": 3
   },
   "file_extension": ".py",
   "mimetype": "text/x-python",
   "name": "python",
   "nbconvert_exporter": "python",
   "pygments_lexer": "ipython3",
   "version": "3.5.3"
  }
 },
 "nbformat": 4,
 "nbformat_minor": 2
}
