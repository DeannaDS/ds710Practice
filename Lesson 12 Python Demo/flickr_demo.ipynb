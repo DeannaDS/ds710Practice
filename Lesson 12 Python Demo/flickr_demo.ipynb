{
 "cells": [
  {
   "cell_type": "markdown",
   "metadata": {},
   "source": [
    "# A photo feed\n",
    "\n",
    "The file ```photos_public.txt``` contains the [JSON version of the Flickr photo feed](https://api.flickr.com/services/feeds/photos_public.gne?&format=json) as accessed on 4 August 2015.  (We've removed some apostrophes to aid in processing.)  To see what the actual photos might look like, check out [the RSS version of the feed](https://api.flickr.com/services/feeds/photos_public.gne).\n",
    "\n",
    "JSON, which stands for \"JavaScript Object Notation\", is a standard format used by many websites to exchange information.  Our goal is to organize the feed information in Python, and investigate how many of the Flickr photos were posted via the [Instagram](http://instagram.com/) app."
   ]
  },
  {
   "cell_type": "markdown",
   "metadata": {},
   "source": [
    "We start by looking at the ```items``` list in ```photos_public.txt```.  Each one of these items represents a photo.  We need to decide what information we're interested in keeping.  For simplicity, let's suppose we want:\n",
    "\n",
    "* The link to the photo's Flickr page\n",
    "* The link to a thumbnail version of the photo (listed in the JSON file as \"media\")\n",
    "* The photo's title\n",
    "* The author id\n",
    "* The tags"
   ]
  },
  {
   "cell_type": "code",
   "execution_count": 1,
   "metadata": {
    "collapsed": true
   },
   "outputs": [],
   "source": [
    "# Build a basic class to contain the information we want to save\n",
    "\n",
    "class FlickrPhoto(object):\n",
    "    \n",
    "    def __init__(self, link=\"\", thumb_link = \"\", title=\"\", a_id = \"\", tags=\"\"):\n",
    "        self.link = link\n",
    "        self.thumb_link = thumb_link\n",
    "        self.title = title\n",
    "        self.author_id = a_id\n",
    "        self.tags = tags\n",
    "    \n",
    "    def get_link(self):\n",
    "        \"\"\" return link to Flickr page for photo\"\"\"\n",
    "        return self.link\n",
    "    \n",
    "    def get_thumb_link(self):\n",
    "        \"\"\" return link to thumbnail version of photo\"\"\"\n",
    "        return self.thumb_link\n",
    "    \n",
    "    def get_title(self):\n",
    "        \"\"\" return photo title\"\"\"\n",
    "        return self.title\n",
    "    \n",
    "    def get_author_id(self):\n",
    "        \"\"\" return author id\"\"\"\n",
    "        return self.author_id\n",
    "    \n",
    "    def get_tags(self):\n",
    "        \"\"\" return tags for photo\"\"\"\n",
    "        return self.tags"
   ]
  },
  {
   "cell_type": "code",
   "execution_count": 5,
   "metadata": {
    "collapsed": true
   },
   "outputs": [],
   "source": [
    "blank = FlickrPhoto()"
   ]
  },
  {
   "cell_type": "code",
   "execution_count": 6,
   "metadata": {},
   "outputs": [
    {
     "data": {
      "text/plain": [
       "''"
      ]
     },
     "execution_count": 6,
     "metadata": {},
     "output_type": "execute_result"
    }
   ],
   "source": [
    "blank.get_tags()\n"
   ]
  },
  {
   "cell_type": "code",
   "execution_count": 7,
   "metadata": {},
   "outputs": [
    {
     "data": {
      "text/plain": [
       "'e'"
      ]
     },
     "execution_count": 7,
     "metadata": {},
     "output_type": "execute_result"
    }
   ],
   "source": [
    "test_photo = FlickrPhoto(\"a\",\"b\",\"c\",\"d\",\"e\")\n",
    "test_photo.get_tags()"
   ]
  },
  {
   "cell_type": "code",
   "execution_count": 8,
   "metadata": {},
   "outputs": [
    {
     "data": {
      "text/plain": [
       "''"
      ]
     },
     "execution_count": 8,
     "metadata": {},
     "output_type": "execute_result"
    }
   ],
   "source": [
    "test_photo_2 = FlickrPhoto(\"a\",\"b\",\"c\")\n",
    "test_photo_2.get_tags()"
   ]
  },
  {
   "cell_type": "markdown",
   "metadata": {},
   "source": [
    "Let's make a fancier version of our photo class, which incorporates the ability to display the thumbnail."
   ]
  },
  {
   "cell_type": "code",
   "execution_count": 9,
   "metadata": {},
   "outputs": [],
   "source": [
    "# Import code for dealing with URLs and images\n",
    "from PIL import Image\n",
    "import requests\n",
    "from io import BytesIO\n",
    "\n",
    "class FlickrPhoto(object):\n",
    "    \n",
    "    def __init__(self, link=\"\", thumb_link = \"\", title=\"\", a_id = \"\", tags=\"\"):\n",
    "        self.link = link\n",
    "        self.thumb_link = thumb_link\n",
    "        self.title = title\n",
    "        self.author_id = a_id\n",
    "        self.tags = tags\n",
    "    \n",
    "    def get_link(self):\n",
    "        \"\"\" return link to Flickr page for photo\"\"\"\n",
    "        return self.link\n",
    "    \n",
    "    def get_thumb_link(self):\n",
    "        \"\"\" return link to thumbnail version of photo\"\"\"\n",
    "        return self.thumb_link\n",
    "    \n",
    "    def get_title(self):\n",
    "        \"\"\" return photo title\"\"\"\n",
    "        return self.title\n",
    "    \n",
    "    def get_author_id(self):\n",
    "        \"\"\" return author id\"\"\"\n",
    "        return self.author_id\n",
    "    \n",
    "    def get_tags(self):\n",
    "        \"\"\" return tags for photo\"\"\"\n",
    "        return self.tags\n",
    "\n",
    "\n",
    "    def display_thumbnail(self):\n",
    "        \"\"\" open the thumbnail version in default image viewer\"\"\"\n",
    "        \n",
    "        if self.thumb_link==\"\":\n",
    "            print(\"No thumbnail link!\")\n",
    "            return\n",
    "        \n",
    "        response = requests.get(self.thumb_link)\n",
    "        Image.open(BytesIO(response.content)).show()"
   ]
  },
  {
   "cell_type": "code",
   "execution_count": 10,
   "metadata": {},
   "outputs": [
    {
     "name": "stdout",
     "output_type": "stream",
     "text": [
      "No thumbnail link!\n"
     ]
    }
   ],
   "source": [
    "blank = FlickrPhoto()\n",
    "blank.display_thumbnail()"
   ]
  },
  {
   "cell_type": "code",
   "execution_count": null,
   "metadata": {
    "collapsed": true
   },
   "outputs": [],
   "source": [
    "test_photo = FlickrPhoto(thumb_link = \"https://farm1.staticflickr.com/301/20299106861_23979a8033_m.jpg\")\n",
    "test_photo.display_thumbnail()"
   ]
  },
  {
   "cell_type": "markdown",
   "metadata": {},
   "source": [
    "We'll use the [JSON module](https://docs.python.org/3/library/json.html) to parse our JSON file and create a list of FlickrPhoto objects."
   ]
  },
  {
   "cell_type": "code",
   "execution_count": null,
   "metadata": {
    "collapsed": true
   },
   "outputs": [],
   "source": [
    "import json"
   ]
  },
  {
   "cell_type": "code",
   "execution_count": null,
   "metadata": {},
   "outputs": [],
   "source": [
    "with open('photos_public.txt') as data_file:\n",
    "    photos_j = json.loads(data_file.read())"
   ]
  },
  {
   "cell_type": "code",
   "execution_count": null,
   "metadata": {},
   "outputs": [],
   "source": [
    "photo_list = [FlickrPhoto(photo[\"link\"], photo[\"media\"], photo[\"title\"], photo[\"author_id\"], photo[\"tags\"]) for photo in photos_j[\"items\"]]"
   ]
  },
  {
   "cell_type": "markdown",
   "metadata": {},
   "source": [
    "Now, let's create a data frame which contains the author id and whether a photo is tagged as coming from Instagram."
   ]
  },
  {
   "cell_type": "code",
   "execution_count": null,
   "metadata": {
    "collapsed": true
   },
   "outputs": [],
   "source": [
    "import pandas as pd"
   ]
  },
  {
   "cell_type": "code",
   "execution_count": null,
   "metadata": {},
   "outputs": [],
   "source": [
    "column_names = (\"Author id\", \"Instagram\")\n",
    "dict_list = []\n",
    "for photo in photo_list:\n",
    "    has_instagram = \"instagram\" in photo.get_tags()\n",
    "    dict_list.append(dict(zip(column_names, [photo.get_author_id(),has_instagram])))\n",
    "photo_df = pd.DataFrame(dict_list)\n",
    "photo_df"
   ]
  },
  {
   "cell_type": "code",
   "execution_count": null,
   "metadata": {
    "collapsed": true
   },
   "outputs": [],
   "source": []
  }
 ],
 "metadata": {
  "kernelspec": {
   "display_name": "Python 3",
   "language": "python",
   "name": "python3"
  },
  "language_info": {
   "codemirror_mode": {
    "name": "ipython",
    "version": 3
   },
   "file_extension": ".py",
   "mimetype": "text/x-python",
   "name": "python",
   "nbconvert_exporter": "python",
   "pygments_lexer": "ipython3",
   "version": "3.6.1"
  }
 },
 "nbformat": 4,
 "nbformat_minor": 1
}
