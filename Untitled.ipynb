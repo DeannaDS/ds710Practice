{
 "cells": [
  {
   "cell_type": "markdown",
   "metadata": {},
   "source": [
    "Pride and Prejudice appears to have some pretty non-standard English. In general, I broke sentences by a combination of punctuation marks, spaces and capital letters. I added caveats to avoid splitting on common abbreviations (and some uncommon, but present in Pride and Prejudice ones). For interjections, which are used often, I chose to only count them as a sentence if the next word started with a capital letter. For example:\n",
    "* \"Oh! shocking!\" counts as a single sentence, not two. \n",
    "* \"Oh! Single, my dear, to be sure!\" would count as two.\n",
    "\n",
    "For the use of dashes, I used the following rule to consider them a sentence:\n",
    "* must be preceded by a period, ? or !, with optional quotation marks\n",
    "* must be followed by optional quotation marks and a capital letter\n",
    "\n",
    "*Note: this misses at least one pseudo sentence. But, not requiring some punctuation before the dashes would result in breaking a lot of sentences that clearly are using dashes as commas.*\n",
    "\n",
    "For headers I:\n",
    "* grabbed the Title, byline and first chapter heading and deleted them\n",
    "* deleted additional chapter headings\n",
    "* deleted the space(s) + asterisks + space(s)\n",
    "\n",
    "I am quite sure this could be done more elegantly. Pretty much every post I read on the subject said we're crazy to try to build our own tokenizer. :)"
   ]
  },
  {
   "cell_type": "code",
   "execution_count": null,
   "metadata": {
    "collapsed": true
   },
   "outputs": [],
   "source": []
  },
  {
   "cell_type": "code",
   "execution_count": 75,
   "metadata": {},
   "outputs": [
    {
     "name": "stdout",
     "output_type": "stream",
     "text": [
      "['Elizabeth told her the motives of her secrecy.', 'She had been unwilling to mention Bingley; and the unsettled state of her own feelings had made her equally avoid the name of his friend.', 'But now she would no longer conceal from her his share in Lydia’s marriage.', 'All was acknowledged, and half the night spent in conversation.', '“Good gracious!” cried Mrs. Bennet, as she stood at a window the next morning, “if that disagreeable Mr. Darcy is not coming here again with our dear Bingley!', 'What can he mean by being so tiresome as to be always coming here?', 'I had no notion but he would go a-shooting, or something or other, and not disturb us with his company.', 'What shall we do with him?', 'Lizzy, you must walk out with him again, that he may not be in Bingley’s way.”']\n"
     ]
    }
   ],
   "source": [
    "# coding=utf8\n",
    "# the above tag defines encoding for this document and is for Python 2.x compatibility\n",
    "\n",
    "import re\n",
    "\n",
    "\n",
    "\n",
    "def checkOh(inText):\n",
    "    \"\"\"\n",
    "    Checks passed-in text to see if it matches the pattern \"Oh! + Capitalized word,\" (Used in several places as part of quotes)\n",
    "    \n",
    "    Parameters\n",
    "    ----------\n",
    "    inText: str\n",
    "    A string to be checked\n",
    "      \n",
    "    Returns\n",
    "    -------\n",
    "    Boolean\n",
    "    The answer to the question: Does it match the pattern.\n",
    "    \"\"\"\n",
    "        \n",
    "    Pride and Prejudice appears to have some pretty non-standard English. In general, I broke sentences by a combination of punctuation marks, spaces and capital letters. I added caveats to avoid splitting on common abbreviations (and some uncommon, but present in Pride and Prejudice ones). For interjections, which are used often, I chose to only count them as a sentence if the next word started with a capital letter. For example:\n",
    "* \"Oh! shocking!\" counts as a single sentence, not two. \n",
    "* \"Oh! Single, my dear, to be sure!\" would count as two.\n",
    "\n",
    "For the use of dashes, I used the following rule to consider them a sentence:\n",
    "* must be preceded by a period, ? or !, with optional quotation marks\n",
    "* must be followed by optional quotation marks and a capital letter\n",
    "\n",
    "*Note: this misses at least one pseudo sentence. But, not requiring some punctuation before the dashes would result in breaking a lot of sentences that clearly are using dashes as commas.*\n",
    "\n",
    "For headers I:\n",
    "* grabbed the Title, byline and first chapter heading and deleted them\n",
    "* deleted additional chapter headings\n",
    "* deleted the space(s) + asterisks + space(s)\n",
    "\n",
    "I am quite sure this could be done more elegantly. Pretty much every post I read on the subject said we're crazy to try to build our own tokenizer. :)\n",
    " \n",
    "\n",
    "\n",
    "\n",
    "\n",
    "test_str = (\"“Oh! Mary,” said she, “I wish you had gone with us, for we had such fun!\n",
    "As we went along, Kitty and I drew up the blinds, and pretended there\n",
    "was nobody in the coach; and I should have gone so all the way, if Kitty\n",
    "had not been sick;\")\n",
    "\n",
    "\n",
    "print(splitSentences(test_str))"
   ]
  },
  {
   "cell_type": "code",
   "execution_count": 81,
   "metadata": {},
   "outputs": [
    {
     "name": "stdout",
     "output_type": "stream",
     "text": [
      "<class 'int'>\n"
     ]
    },
    {
     "ename": "TypeError",
     "evalue": "zip argument #2 must support iteration",
     "output_type": "error",
     "traceback": [
      "\u001b[1;31m---------------------------------------------------------------------------\u001b[0m",
      "\u001b[1;31mTypeError\u001b[0m                                 Traceback (most recent call last)",
      "\u001b[1;32m<ipython-input-81-35f4d94c7bed>\u001b[0m in \u001b[0;36m<module>\u001b[1;34m()\u001b[0m\n\u001b[0;32m      3\u001b[0m \u001b[1;33m\u001b[0m\u001b[0m\n\u001b[0;32m      4\u001b[0m \u001b[0mprint\u001b[0m\u001b[1;33m(\u001b[0m\u001b[0mtype\u001b[0m\u001b[1;33m(\u001b[0m\u001b[0mnList\u001b[0m\u001b[1;33m)\u001b[0m\u001b[1;33m)\u001b[0m\u001b[1;33m\u001b[0m\u001b[0m\n\u001b[1;32m----> 5\u001b[1;33m \u001b[0mcombined_list\u001b[0m \u001b[1;33m=\u001b[0m \u001b[0mzip\u001b[0m\u001b[1;33m(\u001b[0m\u001b[0mcList\u001b[0m\u001b[1;33m,\u001b[0m\u001b[0mnList\u001b[0m\u001b[1;33m)\u001b[0m\u001b[1;33m\u001b[0m\u001b[0m\n\u001b[0m\u001b[0;32m      6\u001b[0m \u001b[0mprint\u001b[0m\u001b[1;33m(\u001b[0m\u001b[0mlist\u001b[0m\u001b[1;33m(\u001b[0m\u001b[0mcombined_list\u001b[0m\u001b[1;33m)\u001b[0m\u001b[1;33m)\u001b[0m\u001b[1;33m\u001b[0m\u001b[0m\n",
      "\u001b[1;31mTypeError\u001b[0m: zip argument #2 must support iteration"
     ]
    }
   ],
   "source": [
    "cList = [1,2,3]\n",
    "nList = 4 + 5 + 6\n",
    "\n",
    "print(type(nList))\n",
    "combined_list = zip(cList,nList)\n",
    "print(list(combined_list))"
   ]
  },
  {
   "cell_type": "code",
   "execution_count": 1,
   "metadata": {},
   "outputs": [
    {
     "name": "stdout",
     "output_type": "stream",
     "text": [
      "Last Arrival based on full precision:  1 day, 2:00:00\n"
     ]
    }
   ],
   "source": [
    "import datetime\n",
    "\n",
    "total = 93600\n",
    "\n",
    "lastArrival = str(datetime.timedelta(seconds=total))\n",
    "print(\"Last Arrival based on full precision: \", lastArrival)\n"
   ]
  },
  {
   "cell_type": "code",
   "execution_count": 11,
   "metadata": {},
   "outputs": [
    {
     "name": "stdout",
     "output_type": "stream",
     "text": [
      "[[6.02, 1.65], [7.53, 2.67]]\n"
     ]
    }
   ],
   "source": [
    "c = [8.32, 6.02, 7.53]\n",
    "\n",
    "n = [2.1, 1.65, 2.67]\n",
    "\n",
    "combined = zip(c,n)\n",
    "\n",
    "winners = [[c, n] for  c, n in  combined if c < 8]\n",
    "\n",
    "print(winners)"
   ]
  },
  {
   "cell_type": "code",
   "execution_count": 18,
   "metadata": {},
   "outputs": [
    {
     "data": {
      "text/plain": [
       "False"
      ]
     },
     "execution_count": 18,
     "metadata": {},
     "output_type": "execute_result"
    }
   ],
   "source": [
    "string = 'This is some text and this is more text'\n",
    "punct = set('.!?')\n",
    "\n",
    "def hasPunct(inString):  \n",
    "    if any((c in punct) for c in inString):\n",
    "        return True\n",
    "    else:\n",
    "        return False\n",
    "              \n",
    "hasPunct(string)             "
   ]
  },
  {
   "cell_type": "code",
   "execution_count": 61,
   "metadata": {},
   "outputs": [
    {
     "data": {
      "text/plain": [
       "[' It is a truth universally acknowledged, that a single man in possession of a good fortune, must be in want of a wife.',\n",
       " 'However little known the feelings or views of such a man may be on his first entering a neighbourhood, this truth is so well fixed in the minds of the surrounding families, that he is considered the rightful property of some one or other of their daughters.',\n",
       " '“My dear Bennet,” said his lady to him one day, “have you heard that Netherfield Park is let at last?”',\n",
       " 'Bennet replied that he had not.',\n",
       " '“But it is,” returned she; “for Long has just been here, and she told me all about it.”',\n",
       " 'Bennet made no answer.',\n",
       " '“Do you not want to know who has taken it?” cried his wife impatiently.',\n",
       " '“_You_ want to tell me, and I have no objection to hearing it.”',\n",
       " 'This was invitation enough.']"
      ]
     },
     "execution_count": 61,
     "metadata": {},
     "output_type": "execute_result"
    }
   ],
   "source": [
    "import string\n",
    "def hasPunct(inString):\n",
    "    \"\"\"\n",
    "    Returns a boolean to indicate if the string has a period, ! or ?\n",
    "    \n",
    "    Parameters\n",
    "    -----------\n",
    "    inString: str\n",
    "    The string to be evaluated\n",
    "    \n",
    "    Returns:\n",
    "    Boolean\n",
    "    The true or false answer to the question, does this string have punctuation.\n",
    "    \"\"\"\n",
    "    punct = set('.!?”’')\n",
    "    if any((c in punct) for c in inString):\n",
    "        return True\n",
    "    else:\n",
    "        return False\n",
    "\n",
    "    \n",
    "def matchesAbbreviations(inString):\n",
    "    \"\"\"\n",
    "    Returns a boolean to indicate if the passed in string matches one of the common abbeviations in Pride and Prejudice\n",
    "    \n",
    "    Parameters\n",
    "    ---------------\n",
    "    inString: str\n",
    "    The string to be evaluated\n",
    "    \n",
    "    Returns:\n",
    "    Boolean\n",
    "    The true or false answer to the question, does this match any of these abbreviations: Mr. Dr. Ms. Mrs. Jr. Sr.  St. EDW. E. M. \n",
    "    \"\"\"\n",
    "    #strip the punction and make it lower case\n",
    "    cleanedString = inString.lower()\n",
    "    exclude = set(string.punctuation + '”’')\n",
    "    cleanedString =  ''.join(ch for ch in cleanedString if ch not in exclude)\n",
    "    \n",
    "    #make a list of abbreviations\n",
    "    abbrev = ['mr', 'dr', 'ms', 'mrs', 'jr', 'sr', 'edw', 'e', 'm']\n",
    "    \n",
    "    anyMatches = False\n",
    "    for item in abbrev:\n",
    "        if item == cleanedString:\n",
    "            anyMatches = True\n",
    "\n",
    "    return anyMatches\n",
    "\n",
    "def checkNextWord(inWord):\n",
    "    \"\"\"\n",
    "    Returns a boolean to indicate if the passed in word meets the definition of a sentence-starting word (assuming the prior word has potential sentence-ending punctuation)\n",
    "    Definition: Capitalized or “+Capitalized or “_+Capitalized or ‘+Capitalized\n",
    "    \n",
    "    Parameters\n",
    "    --------------\n",
    "    inWord - str\n",
    "    a word to be evaluated\n",
    "    \n",
    "    Returns\n",
    "    ---------------\n",
    "    Boolean\n",
    "    The answer to the question, \"Is this word the start of a new sentence.\n",
    "    \n",
    "    \"\"\"\n",
    "    \n",
    "    #look at the first character\n",
    "    firstChar = inWord[0]\n",
    "    if firstChar.isupper():\n",
    "        return True\n",
    "    else:\n",
    "        punct = set(\"“‘\")\n",
    "        if firstChar in punct:\n",
    "            if inWord[1].isupper:\n",
    "                return True\n",
    "            if inWord[1] == '_':\n",
    "                if inWord[2].isupper:\n",
    "                    return True\n",
    "                \n",
    "    return False            \n",
    "    \n",
    "\n",
    "    \n",
    "lineSplit = [' It is a truth universally acknowledged, that a single man in possession of a good fortune, must be in want of a wife.',\n",
    " 'However little known the feelings or views of such a man may be on his first entering a neighbourhood, this truth is so well fixed in the minds of the surrounding families, that he is considered the rightful property of some one or other of their daughters.',\n",
    " '“My dear Mr. Bennet,” said his lady to him one day, “have you heard that Netherfield Park is let at last?”',\n",
    " 'Mr. Bennet replied that he had not.',\n",
    " '“But it is,” returned she; “for Mrs. Long has just been here, and she told me all about it.”',\n",
    " 'Mr. Bennet made no answer.',\n",
    " '“Do you not want to know who has taken it?” cried his wife impatiently.',\n",
    " '“_You_ want to tell me, and I have no objection to hearing it.”',\n",
    " 'This was invitation enough.']\n",
    "\n",
    "def splitSentencesNoRegex(inText):\n",
    "    \"\"\"\n",
    "    Returns a list with one sentence per item in the list, without using regular expressions\n",
    "    \n",
    "    Parameters\n",
    "    ----------\n",
    "    inText: inText\n",
    "    A list of  to be broken into sentences\n",
    "      \n",
    "    Returns\n",
    "    -------\n",
    "    outList: list of str\n",
    "    a list of sentences\n",
    "    \"\"\"\n",
    "    #join the line split\n",
    "    text = ' '.join(inText)\n",
    "\n",
    "    #replace any double spaces with singles\n",
    "    text = text.replace('  ', ' ')\n",
    "\n",
    "    #split on space to get words\n",
    "    words = text.split(' ')\n",
    "\n",
    "    # make a new list. \n",
    "    outList = []\n",
    "    #make a variable to track sentences\n",
    "    sentence = ''\n",
    "    #loop through each word\n",
    "    for i, word in enumerate(words):\n",
    "        if  hasPunct(word) == False:\n",
    "            #it's just a word without punctuation, so it isn't ending a sentence. Add it to the sentence\n",
    "            sentence = sentence + word + ' '\n",
    "        else:\n",
    "            #This might be the end of a sentence.     \n",
    "            #is this the last word?\n",
    "            if i == len(words) -1:\n",
    "                sentence = sentence + word\n",
    "                outList.append(sentence)\n",
    "                sentence = ''\n",
    "            else:\n",
    "                #is the next word the start of a new sentence?\n",
    "                nextWord = words[i + 1]\n",
    "                if(checkNextWord(nextWord) == False):\n",
    "                    #no upper letter starting the next word, so this isn't the end of the sentence\n",
    "                    sentence = sentence + word + ' '\n",
    "                else:\n",
    "                    #is it one of the common abbeviations?\n",
    "                    if matchesAbbreviations(word) == False:\n",
    "                        #it's the end of the sentence\n",
    "                        sentence = sentence + word\n",
    "                        outList.append(sentence)\n",
    "                        sentence = ''\n",
    "    return outList\n",
    "\n",
    "\n",
    "splitSentencesNoRegex(lineSplit)    \n"
   ]
  },
  {
   "cell_type": "code",
   "execution_count": 66,
   "metadata": {},
   "outputs": [
    {
     "data": {
      "text/plain": [
       "True"
      ]
     },
     "execution_count": 66,
     "metadata": {},
     "output_type": "execute_result"
    }
   ],
   "source": [
    "def matchesAbbreviations(inString):\n",
    "    \"\"\"\n",
    "    Returns a boolean to indicate if the passed in string matches one of the common abbeviations in Pride and Prejudice\n",
    "    \n",
    "    Parameters\n",
    "    ---------------\n",
    "    inString: str\n",
    "    The string to be evaluated\n",
    "    \n",
    "    Returns:\n",
    "    Boolean\n",
    "    The true or false answer to the question, does this match any of these abbreviations: Mr. Dr. Ms. Mrs. Jr. Sr.  St. EDW. E. M. \n",
    "    \"\"\"\n",
    "    #strip the punction and make it lower case\n",
    "    cleanedString = inString.lower()\n",
    "    exclude = set(string.punctuation + '”’“‘')\n",
    "    cleanedString =  ''.join(ch for ch in cleanedString if ch not in exclude)\n",
    "    \n",
    "    #make a list of abbreviations\n",
    "    abbrev = ['mr', 'dr', 'ms', 'mrs', 'jr', 'sr', 'edw', 'e', 'm','st']\n",
    "    \n",
    "    anyMatches = False\n",
    "    for item in abbrev:\n",
    "        if item == cleanedString:\n",
    "            anyMatches = True\n",
    "            break\n",
    "\n",
    "    return anyMatches\n",
    "\n",
    "\n",
    "matchesAbbreviations(\"“Mr.\")"
   ]
  },
  {
   "cell_type": "code",
   "execution_count": 68,
   "metadata": {},
   "outputs": [
    {
     "name": "stdout",
     "output_type": "stream",
     "text": [
      "This is some text .\n"
     ]
    }
   ],
   "source": [
    "text = \"This is some text . \"\n",
    "text = text.strip()\n",
    "print(text)"
   ]
  },
  {
   "cell_type": "code",
   "execution_count": 71,
   "metadata": {},
   "outputs": [
    {
     "name": "stdout",
     "output_type": "stream",
     "text": [
      "1.2\n",
      "3.4\n",
      "5.6\n",
      "[-0.00343842  1.5347867  -1.50867052  0.37268242 -0.0636173   0.591985\n",
      " -1.09790392 -1.18421192 -1.43472874 -0.87464945  0.25369501 -0.6645293\n",
      "  0.40805257  0.74160696  0.37795736  0.97893021 -0.92628278  0.13333273\n",
      "  0.93037951  1.3165168  -0.51250703  0.28063798 -0.24283931  0.10857201\n",
      "  1.50913518  1.4176537  -1.08773498  0.5652114   0.85369684 -1.04573277\n",
      "  1.76616156  0.7624037   0.02818238 -0.43286235 -0.4068066  -2.68587779\n",
      " -1.12988916  0.1086885  -1.07484803  0.3322055  -0.51593236 -0.11757036\n",
      "  0.10904964  1.15996236 -1.0615955  -0.45782917  0.70794826  1.09528412\n",
      "  0.09125677 -0.12603431]\n"
     ]
    }
   ],
   "source": [
    "clist = [1.2, 3.4, 5.6]\n",
    "nelist = []\n",
    "for i in range(3):\n",
    "    print(clist[i])\n",
    "\n",
    "import numpy \n",
    "nevalues = numpy.random.normal(0,1,50)\n",
    "print (nevalues)\n"
   ]
  },
  {
   "cell_type": "code",
   "execution_count": 86,
   "metadata": {},
   "outputs": [
    {
     "name": "stdout",
     "output_type": "stream",
     "text": [
      "[(1.2, 5.4), (3.4, 6.6), (5.6, 4.1)]\n"
     ]
    }
   ],
   "source": [
    "mylist1 = [1.2, 3.4, 5.6]\n",
    "mylist2 = [5.4, 6.6, 4.1]\n",
    "\n",
    "combined = list(zip(mylist1, mylist2))\n",
    "print(combined)\n",
    "\n",
    "#access items within the tuples\n",
    "abiggerthanb = [myTuple for myTuple in combined if myTuple[0] > myTuple[1]]\n",
    "\n",
    "abiggerthanb2 = [(a,b) for (a,b) in combined if a > b]"
   ]
  }
 ],
 "metadata": {
  "kernelspec": {
   "display_name": "Python 3",
   "language": "python",
   "name": "python3"
  },
  "language_info": {
   "codemirror_mode": {
    "name": "ipython",
    "version": 3
   },
   "file_extension": ".py",
   "mimetype": "text/x-python",
   "name": "python",
   "nbconvert_exporter": "python",
   "pygments_lexer": "ipython3",
   "version": "3.6.1"
  }
 },
 "nbformat": 4,
 "nbformat_minor": 2
}
