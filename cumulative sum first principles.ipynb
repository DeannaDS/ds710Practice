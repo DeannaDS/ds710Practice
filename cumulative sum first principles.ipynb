{
 "cells": [
  {
   "cell_type": "code",
   "execution_count": 19,
   "metadata": {},
   "outputs": [
    {
     "name": "stdout",
     "output_type": "stream",
     "text": [
      "[1, 3, 6, 10, 15]\n",
      "[ 1  3  6 10 15]\n"
     ]
    }
   ],
   "source": [
    "arrival_list = [1,2,3,4,5]\n",
    " \n",
    "\n",
    "#loop through the list and create a cumulative sum\n",
    "newList = []\n",
    "for i,num in enumerate(arrival_list):\n",
    "    if i == 0:\n",
    "        newList.append(arrival_list[i])\n",
    "    else:\n",
    "        prevCount = i-1\n",
    "        newList.append(newList[prevCount] + arrival_list[i])\n",
    "\n",
    "print(newList) \n",
    "\n",
    "import numpy as np\n",
    "numpyVersion = np.cumsum(arrival_list)\n",
    "\n",
    "print(numpyVersion)\n"
   ]
  }
 ],
 "metadata": {
  "kernelspec": {
   "display_name": "Python 3",
   "language": "python",
   "name": "python3"
  },
  "language_info": {
   "codemirror_mode": {
    "name": "ipython",
    "version": 3
   },
   "file_extension": ".py",
   "mimetype": "text/x-python",
   "name": "python",
   "nbconvert_exporter": "python",
   "pygments_lexer": "ipython3",
   "version": "3.6.1"
  }
 },
 "nbformat": 4,
 "nbformat_minor": 2
}
