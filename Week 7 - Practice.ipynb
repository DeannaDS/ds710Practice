{
 "cells": [
  {
   "cell_type": "code",
   "execution_count": 7,
   "metadata": {},
   "outputs": [
    {
     "data": {
      "text/plain": [
       "[\"Haven't you eaten 8 oranges today?\", ' I have!', ' They were delicious.', '']"
      ]
     },
     "execution_count": 7,
     "metadata": {},
     "output_type": "execute_result"
    }
   ],
   "source": [
    "test_string = \"Haven't you eaten 8 oranges today? I have! They were delicious.\"\n",
    "\n",
    "test_string = test_string.replace('?', '?|').replace('.', '.|').replace('!', '!|').split('|')\n",
    "\n",
    "test_string"
   ]
  },
  {
   "cell_type": "code",
   "execution_count": 1,
   "metadata": {},
   "outputs": [
    {
     "name": "stdout",
     "output_type": "stream",
     "text": [
      "A-\n"
     ]
    }
   ],
   "source": [
    "letter_grades = [\"A\",\"B\",\"C\",\"D\",\"F\"]\n",
    "a_list = next(map(lambda s: [s+\"+\",s,s+\"-\"], letter_grades))\n",
    "print(a_list[2])"
   ]
  },
  {
   "cell_type": "code",
   "execution_count": 2,
   "metadata": {},
   "outputs": [
    {
     "data": {
      "text/plain": [
       "'a'"
      ]
     },
     "execution_count": 2,
     "metadata": {},
     "output_type": "execute_result"
    }
   ],
   "source": [
    "def get_upper(s):\n",
    "    return s.upper()\n",
    "\n",
    "def get_lower(s):\n",
    "    return s.lower()\n",
    "\n",
    "def toggle_case(s):\n",
    "    if s.isupper():\n",
    "        return get_lower(s)\n",
    "    else:\n",
    "        return get_upper(s)\n",
    "    \n",
    "\n",
    "toggle_case('A')    "
   ]
  },
  {
   "cell_type": "code",
   "execution_count": 15,
   "metadata": {},
   "outputs": [
    {
     "name": "stdout",
     "output_type": "stream",
     "text": [
      "['A+', 'A', 'A-']\n"
     ]
    }
   ],
   "source": [
    "letter_grades = [\"A\",\"B\",\"C\",\"D\",\"F\"]\n",
    "a_list = next(map(lambda s: [s+\"+\",s,s+\"-\"], letter_grades))\n",
    "print(a_list)"
   ]
  },
  {
   "cell_type": "code",
   "execution_count": 16,
   "metadata": {},
   "outputs": [
    {
     "name": "stdout",
     "output_type": "stream",
     "text": [
      "A-\n"
     ]
    }
   ],
   "source": [
    "a_list = ['A+', 'A', 'A-']\n",
    "print(a_list[2])"
   ]
  },
  {
   "cell_type": "code",
   "execution_count": 13,
   "metadata": {},
   "outputs": [
    {
     "name": "stdout",
     "output_type": "stream",
     "text": [
      "[['A+', 'A', 'A-'], ['B+', 'B', 'B-'], ['C+', 'C', 'C-'], ['D+', 'D', 'D-'], ['F+', 'F', 'F-']]\n"
     ]
    }
   ],
   "source": [
    "letter_grades = [\"A\",\"B\",\"C\",\"D\",\"F\"]\n",
    "letter_grades_expanded = []\n",
    "for s in letter_grades:\n",
    "    letter_grades_expanded.append([s+\"+\",s,s+\"-\"])\n",
    "\n",
    "\n",
    "print(letter_grades_expanded)\n",
    "\n",
    "    \n",
    "    "
   ]
  }
 ],
 "metadata": {
  "kernelspec": {
   "display_name": "Python 3",
   "language": "python",
   "name": "python3"
  },
  "language_info": {
   "codemirror_mode": {
    "name": "ipython",
    "version": 3
   },
   "file_extension": ".py",
   "mimetype": "text/x-python",
   "name": "python",
   "nbconvert_exporter": "python",
   "pygments_lexer": "ipython3",
   "version": "3.6.1"
  }
 },
 "nbformat": 4,
 "nbformat_minor": 2
}
